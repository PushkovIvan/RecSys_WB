{
  "cells": [
    {
      "cell_type": "markdown",
      "metadata": {
        "id": "yy9sEfAxpm4G"
      },
      "source": [
        "# Baseline\n",
        "\n",
        "Задачи на этап:\n",
        "* Выбрать метрику оценки качества и обосновать выбор\n",
        "* Разработать baseline (может быть несколько алгоритмов)\n",
        "* Реализовать выбранное решение/я\n",
        "* Протестировать работу baseline\n",
        "* Выбрать итоговое решение для дальнейшей оптимизации и обосновать выбор"
      ]
    },
    {
      "cell_type": "code",
      "execution_count": 64,
      "metadata": {
        "id": "gJqmZPutpm4H"
      },
      "outputs": [],
      "source": [
        "import numpy as np\n",
        "import pandas as pd\n",
        "import matplotlib as plt\n",
        "import random\n",
        "import statistics\n",
        "import seaborn as sns\n",
        "from scipy.sparse import csr_matrix\n",
        "from sklearn.utils import shuffle\n",
        "from sklearn.model_selection import train_test_split\n",
        "from sklearn.metrics import mean_squared_error\n",
        "from math import sqrt\n",
        "from sklearn.metrics import mean_absolute_percentage_error"
      ]
    },
    {
      "cell_type": "code",
      "execution_count": 4,
      "metadata": {
        "id": "ocGn_tmUpm4I"
      },
      "outputs": [],
      "source": [
        "df = pd.read_csv('wb_school_task_1.csv')"
      ]
    },
    {
      "cell_type": "code",
      "execution_count": 5,
      "metadata": {
        "colab": {
          "base_uri": "https://localhost:8080/",
          "height": 423
        },
        "id": "GIA2on09pm4I",
        "outputId": "2524e53e-7285-4d66-a07b-5400ddc4abee"
      },
      "outputs": [
        {
          "data": {
            "text/html": [
              "<div>\n",
              "<style scoped>\n",
              "    .dataframe tbody tr th:only-of-type {\n",
              "        vertical-align: middle;\n",
              "    }\n",
              "\n",
              "    .dataframe tbody tr th {\n",
              "        vertical-align: top;\n",
              "    }\n",
              "\n",
              "    .dataframe thead th {\n",
              "        text-align: right;\n",
              "    }\n",
              "</style>\n",
              "<table border=\"1\" class=\"dataframe\">\n",
              "  <thead>\n",
              "    <tr style=\"text-align: right;\">\n",
              "      <th></th>\n",
              "      <th>user_id</th>\n",
              "      <th>item_id</th>\n",
              "      <th>order_ts</th>\n",
              "    </tr>\n",
              "  </thead>\n",
              "  <tbody>\n",
              "    <tr>\n",
              "      <th>0</th>\n",
              "      <td>550614</td>\n",
              "      <td>264</td>\n",
              "      <td>2023-01-01 00:28:09.000000</td>\n",
              "    </tr>\n",
              "    <tr>\n",
              "      <th>1</th>\n",
              "      <td>571051</td>\n",
              "      <td>580</td>\n",
              "      <td>2023-01-01 00:41:47.000000</td>\n",
              "    </tr>\n",
              "    <tr>\n",
              "      <th>2</th>\n",
              "      <td>571051</td>\n",
              "      <td>180</td>\n",
              "      <td>2023-01-01 00:41:47.000000</td>\n",
              "    </tr>\n",
              "    <tr>\n",
              "      <th>3</th>\n",
              "      <td>47164</td>\n",
              "      <td>5135</td>\n",
              "      <td>2023-01-01 00:53:35.000000</td>\n",
              "    </tr>\n",
              "    <tr>\n",
              "      <th>4</th>\n",
              "      <td>219072</td>\n",
              "      <td>2668</td>\n",
              "      <td>2023-01-01 01:02:29.000000</td>\n",
              "    </tr>\n",
              "    <tr>\n",
              "      <th>...</th>\n",
              "      <td>...</td>\n",
              "      <td>...</td>\n",
              "      <td>...</td>\n",
              "    </tr>\n",
              "    <tr>\n",
              "      <th>21265779</th>\n",
              "      <td>249269</td>\n",
              "      <td>348</td>\n",
              "      <td>2023-03-31 23:55:37.182803</td>\n",
              "    </tr>\n",
              "    <tr>\n",
              "      <th>21265780</th>\n",
              "      <td>373951</td>\n",
              "      <td>3835</td>\n",
              "      <td>2023-03-31 23:59:24.148327</td>\n",
              "    </tr>\n",
              "    <tr>\n",
              "      <th>21265781</th>\n",
              "      <td>505474</td>\n",
              "      <td>1340</td>\n",
              "      <td>2023-03-31 23:59:24.161567</td>\n",
              "    </tr>\n",
              "    <tr>\n",
              "      <th>21265782</th>\n",
              "      <td>1011023</td>\n",
              "      <td>153</td>\n",
              "      <td>2023-03-31 23:59:38.371329</td>\n",
              "    </tr>\n",
              "    <tr>\n",
              "      <th>21265783</th>\n",
              "      <td>756570</td>\n",
              "      <td>6623</td>\n",
              "      <td>2023-03-31 23:59:51.669277</td>\n",
              "    </tr>\n",
              "  </tbody>\n",
              "</table>\n",
              "<p>21265784 rows × 3 columns</p>\n",
              "</div>"
            ],
            "text/plain": [
              "          user_id  item_id                    order_ts\n",
              "0          550614      264  2023-01-01 00:28:09.000000\n",
              "1          571051      580  2023-01-01 00:41:47.000000\n",
              "2          571051      180  2023-01-01 00:41:47.000000\n",
              "3           47164     5135  2023-01-01 00:53:35.000000\n",
              "4          219072     2668  2023-01-01 01:02:29.000000\n",
              "...           ...      ...                         ...\n",
              "21265779   249269      348  2023-03-31 23:55:37.182803\n",
              "21265780   373951     3835  2023-03-31 23:59:24.148327\n",
              "21265781   505474     1340  2023-03-31 23:59:24.161567\n",
              "21265782  1011023      153  2023-03-31 23:59:38.371329\n",
              "21265783   756570     6623  2023-03-31 23:59:51.669277\n",
              "\n",
              "[21265784 rows x 3 columns]"
            ]
          },
          "execution_count": 5,
          "metadata": {},
          "output_type": "execute_result"
        }
      ],
      "source": [
        "df"
      ]
    },
    {
      "cell_type": "markdown",
      "metadata": {
        "id": "X6QSWQCo06BE"
      },
      "source": [
        "### Выбранные метрики\n",
        "\n",
        "* Первая и самая простая метрика это hit-rate: был ли куплен или было ли взаимодействие хоть с одним товаром из списка рекомендуемых. Иными словами, метрика описывает, был ли хотя бы один релевантный товар среди показанных в блоке рекомендаций.\n",
        "* Hit rate слишком простая метрика, так как она бинарная. На выручку придет вторая метрика Precision, она же точность. Считается для каждого пользователя. Precision наиболее приближена к бизнесу. Показывает, взаимодействовал ли пользователь с рекомендуемым объектом. Если Hit rate возвращал 1 или 0 для каждого пользователя, то Precision показывает долю релевантных товаров среди рекомендованных, другими словами, какой % рекомендованных товаров юзер купил.\n",
        "* Третья метрика recall. Похожа на precision. Метрика отвечает за кол-во товаров, релевантных пользователю.\n",
        "* F-measure (мера Френцеля)- это комбинированный показатель, учитывающий одновременно точность и полноту. Она рассчитывается как среднее геометрическое этих двух показателей."
      ]
    },
    {
      "cell_type": "markdown",
      "metadata": {
        "id": "uyhn5bgYpm4I"
      },
      "source": [
        "## 1.MostPopular алгоритм в качестве Baseline"
      ]
    },
    {
      "cell_type": "code",
      "execution_count": 6,
      "metadata": {
        "colab": {
          "base_uri": "https://localhost:8080/",
          "height": 206
        },
        "id": "YV70sbKupm4I",
        "outputId": "f98599a0-5345-42eb-f47b-749165689977"
      },
      "outputs": [
        {
          "data": {
            "text/html": [
              "<div>\n",
              "<style scoped>\n",
              "    .dataframe tbody tr th:only-of-type {\n",
              "        vertical-align: middle;\n",
              "    }\n",
              "\n",
              "    .dataframe tbody tr th {\n",
              "        vertical-align: top;\n",
              "    }\n",
              "\n",
              "    .dataframe thead th {\n",
              "        text-align: right;\n",
              "    }\n",
              "</style>\n",
              "<table border=\"1\" class=\"dataframe\">\n",
              "  <thead>\n",
              "    <tr style=\"text-align: right;\">\n",
              "      <th></th>\n",
              "      <th>user_id</th>\n",
              "      <th>item_id</th>\n",
              "      <th>order_ts</th>\n",
              "    </tr>\n",
              "  </thead>\n",
              "  <tbody>\n",
              "    <tr>\n",
              "      <th>0</th>\n",
              "      <td>550614</td>\n",
              "      <td>264</td>\n",
              "      <td>2023-01-01 00:28:09</td>\n",
              "    </tr>\n",
              "    <tr>\n",
              "      <th>1</th>\n",
              "      <td>571051</td>\n",
              "      <td>580</td>\n",
              "      <td>2023-01-01 00:41:47</td>\n",
              "    </tr>\n",
              "    <tr>\n",
              "      <th>2</th>\n",
              "      <td>571051</td>\n",
              "      <td>180</td>\n",
              "      <td>2023-01-01 00:41:47</td>\n",
              "    </tr>\n",
              "    <tr>\n",
              "      <th>3</th>\n",
              "      <td>47164</td>\n",
              "      <td>5135</td>\n",
              "      <td>2023-01-01 00:53:35</td>\n",
              "    </tr>\n",
              "    <tr>\n",
              "      <th>4</th>\n",
              "      <td>219072</td>\n",
              "      <td>2668</td>\n",
              "      <td>2023-01-01 01:02:29</td>\n",
              "    </tr>\n",
              "  </tbody>\n",
              "</table>\n",
              "</div>"
            ],
            "text/plain": [
              "   user_id  item_id            order_ts\n",
              "0   550614      264 2023-01-01 00:28:09\n",
              "1   571051      580 2023-01-01 00:41:47\n",
              "2   571051      180 2023-01-01 00:41:47\n",
              "3    47164     5135 2023-01-01 00:53:35\n",
              "4   219072     2668 2023-01-01 01:02:29"
            ]
          },
          "execution_count": 6,
          "metadata": {},
          "output_type": "execute_result"
        }
      ],
      "source": [
        "baseline = df.copy()\n",
        "baseline['order_ts'] = pd.to_datetime(baseline['order_ts'])\n",
        "baseline.head()\n"
      ]
    },
    {
      "cell_type": "code",
      "execution_count": 7,
      "metadata": {
        "id": "zua25e-2pm4J"
      },
      "outputs": [],
      "source": [
        "class MostPopularRecommender:\n",
        "    def __init__(self):\n",
        "        self.top_items = {}\n",
        "\n",
        "    def fit(self, df):\n",
        "        for month in df['order_ts'].dt.to_period('M').unique():\n",
        "            month_str = str(month)\n",
        "            top_items_month = df[df['order_ts'].dt.to_period('M') == month].groupby('item_id').size().nlargest(100).index.tolist()\n",
        "            self.top_items[month_str] = top_items_month\n",
        "\n",
        "    def predict(self, df):\n",
        "        result = []\n",
        "        for month in df['order_ts'].dt.to_period('M').unique():\n",
        "            month_str = str(month)\n",
        "            if month_str in self.top_items:\n",
        "                result.append(random.sample(self.top_items[month_str],10))\n",
        "        return result"
      ]
    },
    {
      "cell_type": "code",
      "execution_count": 8,
      "metadata": {
        "id": "qotgPmd9pm4J"
      },
      "outputs": [],
      "source": [
        "from sklearn. model_selection import train_test_split\n",
        "\n",
        "train, test = train_test_split(df, test_size= 0.16 , random_state= 0 )\n",
        "train['order_ts'] = pd.to_datetime(train['order_ts'])\n",
        "test['order_ts'] = pd.to_datetime(test['order_ts'])\n",
        "test_idx = list(sorted(set(test.user_id)))\n"
      ]
    },
    {
      "cell_type": "code",
      "execution_count": 9,
      "metadata": {
        "id": "nErgcMhgpm4J"
      },
      "outputs": [],
      "source": [
        "recommender = MostPopularRecommender()\n",
        "recommender.fit(train)"
      ]
    },
    {
      "cell_type": "code",
      "execution_count": 10,
      "metadata": {
        "colab": {
          "base_uri": "https://localhost:8080/"
        },
        "id": "F5kfsQ5ipm4J",
        "outputId": "22e6b758-d850-46ed-b687-55048aaa1a6f"
      },
      "outputs": [
        {
          "data": {
            "text/plain": [
              "dict_keys(['2023-03', '2023-02', '2023-01'])"
            ]
          },
          "execution_count": 10,
          "metadata": {},
          "output_type": "execute_result"
        }
      ],
      "source": [
        "recommender.top_items.keys()"
      ]
    },
    {
      "cell_type": "code",
      "execution_count": 11,
      "metadata": {
        "id": "XmotaqMJpm4J"
      },
      "outputs": [],
      "source": [
        "test_preds = recommender.predict(test)\n",
        "\n"
      ]
    },
    {
      "cell_type": "code",
      "execution_count": 12,
      "metadata": {
        "colab": {
          "base_uri": "https://localhost:8080/"
        },
        "id": "mIli7Dekpm4K",
        "outputId": "88c2a31b-36e4-49e4-c38f-80ddfb7b0e53"
      },
      "outputs": [
        {
          "data": {
            "text/plain": [
              "[[1312, 82, 38, 177, 5204, 2803, 350, 170, 162, 7246],\n",
              " [351, 1834, 150, 94, 381, 203, 201, 148, 403, 356],\n",
              " [436, 185, 163, 192, 362, 170, 177, 347, 351, 352]]"
            ]
          },
          "execution_count": 12,
          "metadata": {},
          "output_type": "execute_result"
        }
      ],
      "source": [
        "test_preds"
      ]
    },
    {
      "cell_type": "markdown",
      "metadata": {
        "id": "QzlsLjL_06BF"
      },
      "source": [
        "### Расчет метрик"
      ]
    },
    {
      "cell_type": "code",
      "execution_count": 13,
      "metadata": {
        "id": "zFHPCKNa06BG"
      },
      "outputs": [],
      "source": [
        "test['month'] = pd.to_datetime(test['order_ts']).dt.month\n",
        "\n",
        "# Теперь создаем новый DataFrame, содержащий только покупки пользователей из теста\n",
        "test_buys = test[test['user_id'].isin(test_idx)]\n",
        "grouped_df = test_buys.groupby('user_id')\n",
        "\n",
        "# Добавляем новую колонку, которая содержит список купленных предметов для каждого пользователя и колонку с месяцами покупок\n",
        "fact = grouped_df.apply(lambda x: x['item_id'].tolist()).reset_index(name='list_items')\n",
        "fact1 = grouped_df.apply(lambda x: x['month'].tolist()).reset_index(name='list_month')\n",
        "fact = fact.merge(fact1, on='user_id')"
      ]
    },
    {
      "cell_type": "code",
      "execution_count": 14,
      "metadata": {
        "id": "krm0rr4F06BG",
        "outputId": "cbf4d0ba-adf9-4e6c-8422-3dac75f61989"
      },
      "outputs": [
        {
          "data": {
            "text/html": [
              "<div>\n",
              "<style scoped>\n",
              "    .dataframe tbody tr th:only-of-type {\n",
              "        vertical-align: middle;\n",
              "    }\n",
              "\n",
              "    .dataframe tbody tr th {\n",
              "        vertical-align: top;\n",
              "    }\n",
              "\n",
              "    .dataframe thead th {\n",
              "        text-align: right;\n",
              "    }\n",
              "</style>\n",
              "<table border=\"1\" class=\"dataframe\">\n",
              "  <thead>\n",
              "    <tr style=\"text-align: right;\">\n",
              "      <th></th>\n",
              "      <th>user_id</th>\n",
              "      <th>list_items</th>\n",
              "      <th>list_month</th>\n",
              "    </tr>\n",
              "  </thead>\n",
              "  <tbody>\n",
              "    <tr>\n",
              "      <th>0</th>\n",
              "      <td>1</td>\n",
              "      <td>[300]</td>\n",
              "      <td>[2]</td>\n",
              "    </tr>\n",
              "    <tr>\n",
              "      <th>1</th>\n",
              "      <td>3</td>\n",
              "      <td>[11, 185, 149, 93]</td>\n",
              "      <td>[2, 3, 1, 3]</td>\n",
              "    </tr>\n",
              "    <tr>\n",
              "      <th>2</th>\n",
              "      <td>4</td>\n",
              "      <td>[362, 357]</td>\n",
              "      <td>[3, 1]</td>\n",
              "    </tr>\n",
              "    <tr>\n",
              "      <th>3</th>\n",
              "      <td>5</td>\n",
              "      <td>[347, 348, 354, 133]</td>\n",
              "      <td>[3, 3, 3, 3]</td>\n",
              "    </tr>\n",
              "    <tr>\n",
              "      <th>4</th>\n",
              "      <td>7</td>\n",
              "      <td>[1274]</td>\n",
              "      <td>[3]</td>\n",
              "    </tr>\n",
              "    <tr>\n",
              "      <th>...</th>\n",
              "      <td>...</td>\n",
              "      <td>...</td>\n",
              "      <td>...</td>\n",
              "    </tr>\n",
              "    <tr>\n",
              "      <th>758976</th>\n",
              "      <td>1057261</td>\n",
              "      <td>[1444, 2457]</td>\n",
              "      <td>[3, 3]</td>\n",
              "    </tr>\n",
              "    <tr>\n",
              "      <th>758977</th>\n",
              "      <td>1057262</td>\n",
              "      <td>[1571, 437, 89]</td>\n",
              "      <td>[1, 1, 1]</td>\n",
              "    </tr>\n",
              "    <tr>\n",
              "      <th>758978</th>\n",
              "      <td>1057263</td>\n",
              "      <td>[4668, 381]</td>\n",
              "      <td>[2, 3]</td>\n",
              "    </tr>\n",
              "    <tr>\n",
              "      <th>758979</th>\n",
              "      <td>1057264</td>\n",
              "      <td>[457]</td>\n",
              "      <td>[2]</td>\n",
              "    </tr>\n",
              "    <tr>\n",
              "      <th>758980</th>\n",
              "      <td>1057265</td>\n",
              "      <td>[1583]</td>\n",
              "      <td>[3]</td>\n",
              "    </tr>\n",
              "  </tbody>\n",
              "</table>\n",
              "<p>758981 rows × 3 columns</p>\n",
              "</div>"
            ],
            "text/plain": [
              "        user_id            list_items    list_month\n",
              "0             1                 [300]           [2]\n",
              "1             3    [11, 185, 149, 93]  [2, 3, 1, 3]\n",
              "2             4            [362, 357]        [3, 1]\n",
              "3             5  [347, 348, 354, 133]  [3, 3, 3, 3]\n",
              "4             7                [1274]           [3]\n",
              "...         ...                   ...           ...\n",
              "758976  1057261          [1444, 2457]        [3, 3]\n",
              "758977  1057262       [1571, 437, 89]     [1, 1, 1]\n",
              "758978  1057263           [4668, 381]        [2, 3]\n",
              "758979  1057264                 [457]           [2]\n",
              "758980  1057265                [1583]           [3]\n",
              "\n",
              "[758981 rows x 3 columns]"
            ]
          },
          "execution_count": 14,
          "metadata": {},
          "output_type": "execute_result"
        }
      ],
      "source": [
        "fact"
      ]
    },
    {
      "cell_type": "code",
      "execution_count": 15,
      "metadata": {
        "id": "EbRk3dIf06BG"
      },
      "outputs": [],
      "source": [
        "def hit_rate_at_k(test_preds, fact, k=10):\n",
        "    result = []\n",
        "    for i in range(len(fact['list_items'])):\n",
        "        final_bought_list = np.array(fact['list_items'][i])\n",
        "        recommended_list = np.array(test_preds[fact['list_month'][0][0]-1])\n",
        "        flags = np.isin(final_bought_list, recommended_list[:k] )\n",
        "        hit_rate = int(flags.sum() > 0)\n",
        "        result.append(hit_rate)\n",
        "    return statistics.mean(result)"
      ]
    },
    {
      "cell_type": "code",
      "execution_count": 16,
      "metadata": {
        "id": "xnQFelRL06BG"
      },
      "outputs": [],
      "source": [
        "hit_rate = hit_rate_at_k(test_preds, fact, k=10)"
      ]
    },
    {
      "cell_type": "code",
      "execution_count": 17,
      "metadata": {
        "id": "ZRmC9OAU06BG",
        "outputId": "ffbb1dad-9432-456a-c366-3926cdf440d5"
      },
      "outputs": [
        {
          "data": {
            "text/plain": [
              "0.14418806267877587"
            ]
          },
          "execution_count": 17,
          "metadata": {},
          "output_type": "execute_result"
        }
      ],
      "source": [
        "hit_rate"
      ]
    },
    {
      "cell_type": "code",
      "execution_count": 18,
      "metadata": {
        "id": "klVNhexm06BG"
      },
      "outputs": [],
      "source": [
        "def precision_at_k(test_preds, fact, k=10):\n",
        "    result = []\n",
        "    for i in range(len(fact['list_items'])):\n",
        "        final_bought_list = np.array(fact['list_items'][i])\n",
        "        recommended_list = np.array(test_preds[fact['list_month'][0][0]-1])\n",
        "\n",
        "        final_bought_list = final_bought_list\n",
        "        recommended_list = recommended_list[:k]\n",
        "\n",
        "        flags = np.isin(recommended_list, final_bought_list)\n",
        "        precision = flags.sum() / len(recommended_list)\n",
        "        result.append(precision)\n",
        "    return statistics.mean(result)"
      ]
    },
    {
      "cell_type": "code",
      "execution_count": 19,
      "metadata": {
        "id": "_wLvbqA_06BG"
      },
      "outputs": [],
      "source": [
        "precision = precision_at_k(test_preds, fact, k=10)"
      ]
    },
    {
      "cell_type": "code",
      "execution_count": 20,
      "metadata": {
        "id": "cEg-10QA06BH",
        "outputId": "f69e3cfe-05a6-4803-8395-7c30df9a5100"
      },
      "outputs": [
        {
          "data": {
            "text/plain": [
              "0.01612925751764537"
            ]
          },
          "execution_count": 20,
          "metadata": {},
          "output_type": "execute_result"
        }
      ],
      "source": [
        "precision"
      ]
    },
    {
      "cell_type": "code",
      "execution_count": 21,
      "metadata": {
        "id": "xt1g5lDf06BH"
      },
      "outputs": [],
      "source": [
        "def recall_at_k(test_preds, fact, k=10):\n",
        "    result = []\n",
        "    for i in range(len(fact['list_items'])):\n",
        "        final_bought_list = np.array(fact['list_items'][i])\n",
        "        recommended_list = np.array(test_preds[fact['list_month'][0][0]-1])\n",
        "\n",
        "        final_bought_list = final_bought_list\n",
        "        recommended_list = recommended_list[:k]\n",
        "\n",
        "        flags = np.isin(final_bought_list, recommended_list)\n",
        "        recall = flags.sum() / len(final_bought_list)\n",
        "        result.append(recall)\n",
        "    return statistics.mean(result)\n"
      ]
    },
    {
      "cell_type": "code",
      "execution_count": 22,
      "metadata": {
        "id": "K27mjDSa06BH"
      },
      "outputs": [],
      "source": [
        "recall = recall_at_k(test_preds,fact,k=10)"
      ]
    },
    {
      "cell_type": "code",
      "execution_count": 23,
      "metadata": {
        "id": "BnEaJCP-06BH",
        "outputId": "1f552c5b-218f-4b3f-83bf-59c754bb0293"
      },
      "outputs": [
        {
          "data": {
            "text/plain": [
              "0.042330546039298825"
            ]
          },
          "execution_count": 23,
          "metadata": {},
          "output_type": "execute_result"
        }
      ],
      "source": [
        "recall"
      ]
    },
    {
      "cell_type": "code",
      "execution_count": 24,
      "metadata": {
        "id": "cTeWE5Ap06BH"
      },
      "outputs": [],
      "source": [
        "def f_measure(precision,recall):\n",
        "    f = 2  *  (precision  *  recall) / (precision + recall)\n",
        "    return f"
      ]
    },
    {
      "cell_type": "code",
      "execution_count": 25,
      "metadata": {
        "id": "tgxfjWiy06BH"
      },
      "outputs": [],
      "source": [
        "f = f_measure(precision,recall)"
      ]
    },
    {
      "cell_type": "code",
      "execution_count": 26,
      "metadata": {
        "id": "EBSlIKwe06BH",
        "outputId": "a00c4991-443f-4744-f544-200c2a41c22a"
      },
      "outputs": [
        {
          "data": {
            "text/plain": [
              "0.023358281635870864"
            ]
          },
          "execution_count": 26,
          "metadata": {},
          "output_type": "execute_result"
        }
      ],
      "source": [
        "f"
      ]
    },
    {
      "cell_type": "code",
      "execution_count": 65,
      "metadata": {},
      "outputs": [],
      "source": [
        "# Реализованные методы\n",
        "from sklearn.metrics import precision_score, recall_score\n",
        "from sklearn.metrics import accuracy_score"
      ]
    },
    {
      "cell_type": "code",
      "execution_count": 34,
      "metadata": {},
      "outputs": [],
      "source": [
        "# Precision, recall на встроенных методах в sklearn\n",
        "precision_at_k = precision_score(fact, test_preds, average='samples')\n",
        "\n",
        "recall_at_k = recall_score(fact, test_preds, average='samples')\n"
      ]
    },
    {
      "cell_type": "code",
      "execution_count": 37,
      "metadata": {},
      "outputs": [
        {
          "data": {
            "text/plain": [
              "0.01612925751764537"
            ]
          },
          "execution_count": 37,
          "metadata": {},
          "output_type": "execute_result"
        }
      ],
      "source": [
        "precision_at_k"
      ]
    },
    {
      "cell_type": "code",
      "execution_count": 38,
      "metadata": {},
      "outputs": [
        {
          "data": {
            "text/plain": [
              "0.042330546039298825"
            ]
          },
          "execution_count": 38,
          "metadata": {},
          "output_type": "execute_result"
        }
      ],
      "source": [
        "\n",
        "recall_at_k"
      ]
    },
    {
      "cell_type": "markdown",
      "metadata": {
        "id": "lLox5SWSpm4K"
      },
      "source": [
        "# 2. NCF модель"
      ]
    },
    {
      "cell_type": "code",
      "execution_count": 3,
      "metadata": {},
      "outputs": [],
      "source": [
        "wb_data = pd.read_csv('wb_school_task_1.csv')"
      ]
    },
    {
      "cell_type": "code",
      "execution_count": 5,
      "metadata": {},
      "outputs": [
        {
          "name": "stdout",
          "output_type": "stream",
          "text": [
            "         user_id  month  num_items_bought\n",
            "0              3      1                 7\n",
            "1              3      2                14\n",
            "2              3      3                22\n",
            "3             15      1                 7\n",
            "4             15      2                 4\n",
            "...          ...    ...               ...\n",
            "1624237  1057263      2                 9\n",
            "1624238  1057263      3                19\n",
            "1624239  1057265      1                 4\n",
            "1624240  1057265      2                 1\n",
            "1624241  1057265      3                 7\n",
            "\n",
            "[1624242 rows x 3 columns]\n"
          ]
        }
      ],
      "source": [
        "# Преобразование столбца с временем заказа в формат datetime\n",
        "wb_data['order_ts'] = pd.to_datetime(wb_data['order_ts'])\n",
        "\n",
        "# Извлечение месяца из времени заказа\n",
        "wb_data['month'] = wb_data['order_ts'].dt.month\n",
        "\n",
        "# Группировка по пользователю и подсчет количества уникальных месяцев покупок\n",
        "user_purchase_frequency = wb_data.groupby('user_id')['month'].nunique()\n",
        "\n",
        "# Отфильтровываем пользователей, у которых покупки реже чем раз в 3 месяца\n",
        "active_users = user_purchase_frequency[user_purchase_frequency >= 3].index\n",
        "\n",
        "# Фильтрация исходного DataFrame по активным пользователям\n",
        "df_filtered = wb_data[wb_data['user_id'].isin(active_users)]\n",
        "\n",
        "# Группировка по пользователю, месяцу и подсчет количества заказанных товаров\n",
        "items_per_user = df_filtered.groupby(['user_id', 'month']).size().reset_index(name='num_items_bought')\n",
        "\n",
        "print(items_per_user)"
      ]
    },
    {
      "cell_type": "code",
      "execution_count": 6,
      "metadata": {},
      "outputs": [
        {
          "name": "stdout",
          "output_type": "stream",
          "text": [
            "         user_id  month  num_items_bought\n",
            "0              3      1                 7\n",
            "1              3      2                14\n",
            "2              3      3                22\n",
            "6             16      1                 6\n",
            "7             16      2                15\n",
            "...          ...    ...               ...\n",
            "1624222  1057256      2                 7\n",
            "1624223  1057256      3                 6\n",
            "1624236  1057263      1                13\n",
            "1624237  1057263      2                 9\n",
            "1624238  1057263      3                19\n",
            "\n",
            "[684570 rows x 3 columns]\n"
          ]
        }
      ],
      "source": [
        "\n",
        "#items_per_user_filtered = items_per_user[items_per_user['num_items_bought'] <= 30]\n",
        "items = items_per_user[(items_per_user['num_items_bought'] >= 5) & (items_per_user['num_items_bought'] <= 50)]\n",
        "\n",
        "# Группировка по пользователю и подсчет количества уникальных месяцев покупок\n",
        "user_purchase_frequency = items.groupby('user_id')['month'].nunique()\n",
        "\n",
        "# Отфильтровываем пользователей, у которых покупки реже чем раз в 3 месяца\n",
        "active_users = user_purchase_frequency[user_purchase_frequency >= 3].index\n",
        "\n",
        "items_res = items[items['user_id'].isin(active_users)]\n",
        "print(items_res)"
      ]
    },
    {
      "cell_type": "code",
      "execution_count": 7,
      "metadata": {},
      "outputs": [
        {
          "name": "stdout",
          "output_type": "stream",
          "text": [
            "Количество пользователей, покупающих каждый месяц от 8 до 11 товаров : 228190\n"
          ]
        }
      ],
      "source": [
        "n = len(pd.unique(items_res['user_id']))\n",
        "\n",
        "print(\"Количество пользователей, покупающих каждый месяц от 8 до 11 товаров :\",n)"
      ]
    },
    {
      "cell_type": "code",
      "execution_count": 8,
      "metadata": {},
      "outputs": [
        {
          "name": "stdout",
          "output_type": "stream",
          "text": [
            "228190\n"
          ]
        }
      ],
      "source": [
        "usefull_users = items_res['user_id'].unique().tolist()\n",
        "print(len(usefull_users))"
      ]
    },
    {
      "cell_type": "code",
      "execution_count": 35,
      "metadata": {},
      "outputs": [
        {
          "name": "stdout",
          "output_type": "stream",
          "text": [
            "          user_id  item_id                   order_ts  month\n",
            "0          550614      264 2023-01-01 00:28:09.000000      1\n",
            "3           47164     5135 2023-01-01 00:53:35.000000      1\n",
            "6          124741      437 2023-01-01 01:15:03.000000      1\n",
            "8          757324      721 2023-01-01 01:46:57.000000      1\n",
            "10         462564      286 2023-01-01 01:53:13.000000      1\n",
            "...           ...      ...                        ...    ...\n",
            "21265779   249269      348 2023-03-31 23:55:37.182803      3\n",
            "21265780   373951     3835 2023-03-31 23:59:24.148327      3\n",
            "21265781   505474     1340 2023-03-31 23:59:24.161567      3\n",
            "21265782  1011023      153 2023-03-31 23:59:38.371329      3\n",
            "21265783   756570     6623 2023-03-31 23:59:51.669277      3\n",
            "\n",
            "[10780152 rows x 4 columns]\n"
          ]
        }
      ],
      "source": [
        "df = wb_data[wb_data['user_id'].isin(usefull_users)]\n",
        "# Добавляем столбец с днями месяца\n",
        "#df['day_of_month'] = df['order_ts'].dt.day\n",
        "print(df)"
      ]
    },
    {
      "cell_type": "markdown",
      "metadata": {},
      "source": [
        "## Test"
      ]
    },
    {
      "cell_type": "code",
      "execution_count": 36,
      "metadata": {},
      "outputs": [],
      "source": [
        "df_fit = df.copy()\n",
        "df_fit.drop(['order_ts','month'],axis=1,inplace=True)\n",
        "df_fit['target'] = 1"
      ]
    },
    {
      "cell_type": "code",
      "execution_count": 37,
      "metadata": {},
      "outputs": [
        {
          "data": {
            "text/html": [
              "<div>\n",
              "<style scoped>\n",
              "    .dataframe tbody tr th:only-of-type {\n",
              "        vertical-align: middle;\n",
              "    }\n",
              "\n",
              "    .dataframe tbody tr th {\n",
              "        vertical-align: top;\n",
              "    }\n",
              "\n",
              "    .dataframe thead th {\n",
              "        text-align: right;\n",
              "    }\n",
              "</style>\n",
              "<table border=\"1\" class=\"dataframe\">\n",
              "  <thead>\n",
              "    <tr style=\"text-align: right;\">\n",
              "      <th></th>\n",
              "      <th>user_id</th>\n",
              "      <th>item_id</th>\n",
              "      <th>target</th>\n",
              "    </tr>\n",
              "  </thead>\n",
              "  <tbody>\n",
              "    <tr>\n",
              "      <th>0</th>\n",
              "      <td>550614</td>\n",
              "      <td>264</td>\n",
              "      <td>1</td>\n",
              "    </tr>\n",
              "    <tr>\n",
              "      <th>3</th>\n",
              "      <td>47164</td>\n",
              "      <td>5135</td>\n",
              "      <td>1</td>\n",
              "    </tr>\n",
              "    <tr>\n",
              "      <th>6</th>\n",
              "      <td>124741</td>\n",
              "      <td>437</td>\n",
              "      <td>1</td>\n",
              "    </tr>\n",
              "    <tr>\n",
              "      <th>8</th>\n",
              "      <td>757324</td>\n",
              "      <td>721</td>\n",
              "      <td>1</td>\n",
              "    </tr>\n",
              "    <tr>\n",
              "      <th>10</th>\n",
              "      <td>462564</td>\n",
              "      <td>286</td>\n",
              "      <td>1</td>\n",
              "    </tr>\n",
              "    <tr>\n",
              "      <th>...</th>\n",
              "      <td>...</td>\n",
              "      <td>...</td>\n",
              "      <td>...</td>\n",
              "    </tr>\n",
              "    <tr>\n",
              "      <th>21265779</th>\n",
              "      <td>249269</td>\n",
              "      <td>348</td>\n",
              "      <td>1</td>\n",
              "    </tr>\n",
              "    <tr>\n",
              "      <th>21265780</th>\n",
              "      <td>373951</td>\n",
              "      <td>3835</td>\n",
              "      <td>1</td>\n",
              "    </tr>\n",
              "    <tr>\n",
              "      <th>21265781</th>\n",
              "      <td>505474</td>\n",
              "      <td>1340</td>\n",
              "      <td>1</td>\n",
              "    </tr>\n",
              "    <tr>\n",
              "      <th>21265782</th>\n",
              "      <td>1011023</td>\n",
              "      <td>153</td>\n",
              "      <td>1</td>\n",
              "    </tr>\n",
              "    <tr>\n",
              "      <th>21265783</th>\n",
              "      <td>756570</td>\n",
              "      <td>6623</td>\n",
              "      <td>1</td>\n",
              "    </tr>\n",
              "  </tbody>\n",
              "</table>\n",
              "<p>10780152 rows × 3 columns</p>\n",
              "</div>"
            ],
            "text/plain": [
              "          user_id  item_id  target\n",
              "0          550614      264       1\n",
              "3           47164     5135       1\n",
              "6          124741      437       1\n",
              "8          757324      721       1\n",
              "10         462564      286       1\n",
              "...           ...      ...     ...\n",
              "21265779   249269      348       1\n",
              "21265780   373951     3835       1\n",
              "21265781   505474     1340       1\n",
              "21265782  1011023      153       1\n",
              "21265783   756570     6623       1\n",
              "\n",
              "[10780152 rows x 3 columns]"
            ]
          },
          "execution_count": 37,
          "metadata": {},
          "output_type": "execute_result"
        }
      ],
      "source": [
        "df_fit"
      ]
    },
    {
      "cell_type": "code",
      "execution_count": 38,
      "metadata": {},
      "outputs": [
        {
          "name": "stdout",
          "output_type": "stream",
          "text": [
            "Количество уникальных товаров, купленных выбранными юзерами: 6339 Количество товаров в исходной выборке:  6562\n"
          ]
        }
      ],
      "source": [
        "n = len(pd.unique(df['item_id']))\n",
        "\n",
        "print(\"Количество уникальных товаров, купленных выбранными юзерами:\", n , \"Количество товаров в исходной выборке: \", len(wb_data['item_id'].unique()))"
      ]
    },
    {
      "cell_type": "code",
      "execution_count": 60,
      "metadata": {},
      "outputs": [
        {
          "name": "stdout",
          "output_type": "stream",
          "text": [
            "        user_id                                         list_items  target\n",
            "0             3  [363, 3835, 41, 11, 165, 149, 611, 11, 11, 477...       1\n",
            "1            16  [3637, 104, 1834, 105, 104, 104, 133, 133, 133...       1\n",
            "2            29  [1109, 2171, 157, 451, 1248, 1248, 451, 999, 3...       1\n",
            "3            34  [1939, 1069, 1069, 667, 5346, 871, 838, 787, 3...       1\n",
            "4            35  [812, 159, 203, 213, 5116, 1594, 184, 217, 99,...       1\n",
            "...         ...                                                ...     ...\n",
            "228185  1057241  [5136, 191, 1076, 347, 357, 344, 150, 52, 41, ...       1\n",
            "228186  1057242  [2567, 1571, 717, 2576, 363, 212, 594, 358, 36...       1\n",
            "228187  1057245  [358, 1853, 4943, 447, 50, 1352, 593, 4943, 12...       1\n",
            "228188  1057256  [342, 4753, 342, 541, 4378, 105, 336, 440, 317...       1\n",
            "228189  1057263  [4556, 721, 69, 457, 215, 4088, 855, 4088, 115...       1\n",
            "\n",
            "[228190 rows x 3 columns]\n"
          ]
        }
      ],
      "source": [
        "# Группируем данные по user_id\n",
        "grouped_df = df.groupby('user_id')\n",
        "\n",
        "# Применяем функцию к каждой группе, чтобы получить список item_id\n",
        "df = grouped_df.apply(lambda x: x['item_id'].tolist()).reset_index(name='list_items')\n",
        "df['target'] = 1\n",
        "print(df)"
      ]
    },
    {
      "cell_type": "code",
      "execution_count": 14,
      "metadata": {
        "id": "P7qk9PLEzQ7F"
      },
      "outputs": [],
      "source": [
        "\n",
        "import pandas as pd\n",
        "import numpy as np\n",
        "import sklearn\n",
        "import datetime\n",
        "from sklearn.model_selection import train_test_split\n",
        "import matplotlib.pyplot as plt\n",
        "import seaborn as sns"
      ]
    },
    {
      "cell_type": "code",
      "execution_count": 15,
      "metadata": {
        "id": "n-1OZBzqzQ9O"
      },
      "outputs": [
        {
          "name": "stdout",
          "output_type": "stream",
          "text": [
            "WARNING:tensorflow:From C:\\Users\\Иван\\AppData\\Local\\Packages\\PythonSoftwareFoundation.Python.3.11_qbz5n2kfra8p0\\LocalCache\\local-packages\\Python311\\site-packages\\keras\\src\\losses.py:2976: The name tf.losses.sparse_softmax_cross_entropy is deprecated. Please use tf.compat.v1.losses.sparse_softmax_cross_entropy instead.\n",
            "\n"
          ]
        }
      ],
      "source": [
        "# DL библиотеки\n",
        "import tensorflow as tf\n",
        "from tensorflow import keras\n",
        "from tensorflow.keras import layers"
      ]
    },
    {
      "cell_type": "code",
      "execution_count": 16,
      "metadata": {
        "id": "r3KoddffzVgX"
      },
      "outputs": [],
      "source": [
        "from keras.models import Model, Sequential\n",
        "from keras.layers import Embedding, Flatten, Input, Dropout, Dense, BatchNormalization, concatenate, dot\n",
        "from keras.optimizers import Adam\n",
        "from keras.utils import plot_model, model_to_dot\n",
        "from keras.constraints import non_neg\n",
        "from IPython.display import SVG\n",
        "from sklearn.metrics import mean_squared_error\n",
        "import os"
      ]
    },
    {
      "cell_type": "code",
      "execution_count": 40,
      "metadata": {
        "id": "UMeYTV5CzQ_m"
      },
      "outputs": [],
      "source": [
        "user_ids = df_fit[\"user_id\"].unique().tolist()\n",
        "num_all_user = len(user_ids)"
      ]
    },
    {
      "cell_type": "code",
      "execution_count": 43,
      "metadata": {
        "colab": {
          "base_uri": "https://localhost:8080/"
        },
        "id": "ueN_5bFEzRB9",
        "outputId": "f3ef6eb6-52e9-439a-d389-9723739197fa"
      },
      "outputs": [
        {
          "name": "stderr",
          "output_type": "stream",
          "text": [
            "C:\\Users\\Иван\\AppData\\Local\\Temp\\ipykernel_16996\\2797089313.py:9: SettingWithCopyWarning: \n",
            "A value is trying to be set on a copy of a slice from a DataFrame.\n",
            "Try using .loc[row_indexer,col_indexer] = value instead\n",
            "\n",
            "See the caveats in the documentation: https://pandas.pydata.org/pandas-docs/stable/user_guide/indexing.html#returning-a-view-versus-a-copy\n",
            "  sample_df['user_encoded'] = sample_df['user_id'].map(user2user_encoded)\n",
            "C:\\Users\\Иван\\AppData\\Local\\Temp\\ipykernel_16996\\2797089313.py:15: SettingWithCopyWarning: \n",
            "A value is trying to be set on a copy of a slice from a DataFrame.\n",
            "Try using .loc[row_indexer,col_indexer] = value instead\n",
            "\n",
            "See the caveats in the documentation: https://pandas.pydata.org/pandas-docs/stable/user_guide/indexing.html#returning-a-view-versus-a-copy\n",
            "  sample_df['item_encoded'] = sample_df['item_id'].map(item2item_encoded)\n"
          ]
        }
      ],
      "source": [
        "rand_userid = np.random.choice(user_ids, size = int(num_all_user * 0.1), replace=False)\n",
        "sample_df = df_fit.loc[df_fit['user_id'].isin(rand_userid)]\n",
        "\n",
        "# userid, itemid энкодинг для индексов\n",
        "user_ids = df_fit['user_id'].unique()\n",
        "num_users = len(user_ids)\n",
        "user2user_encoded = {x: i for i, x in enumerate(user_ids)}\n",
        "user_encoded2user = {i: x for i, x in enumerate(user_ids)}\n",
        "sample_df['user_encoded'] = sample_df['user_id'].map(user2user_encoded)\n",
        "\n",
        "item_ids = sample_df['item_id'].unique()\n",
        "num_items = len(item_ids)\n",
        "item2item_encoded = {x: i for i, x in enumerate(item_ids)}\n",
        "item_encoded2item = {i: x for i, x in enumerate(item_ids)}\n",
        "sample_df['item_encoded'] = sample_df['item_id'].map(item2item_encoded)"
      ]
    },
    {
      "cell_type": "code",
      "execution_count": 44,
      "metadata": {
        "colab": {
          "base_uri": "https://localhost:8080/"
        },
        "id": "VRQgGSWvzRER",
        "outputId": "48b9b4e0-3fde-4230-badc-db69f75ccfc0"
      },
      "outputs": [
        {
          "name": "stdout",
          "output_type": "stream",
          "text": [
            "total item: 5275 \n",
            "item in train: 5140 \n",
            "item not in train: 135 (0.03) \n",
            "\n",
            "total user: 228190 \n",
            "user in train: 22819 \n",
            "user not in train: 205371 (0.90)\n"
          ]
        }
      ],
      "source": [
        "train, test = train_test_split(sample_df, test_size = 0.2, random_state=123)\n",
        "\n",
        "num_train_user = len(np.unique(train['user_encoded']))\n",
        "num_train_item = len(np.unique(train['item_encoded']))\n",
        "\n",
        "print(f'total item: {num_items}',\n",
        "      f'\\nitem in train: {num_train_item}',\n",
        "      f'\\nitem not in train: {num_items - num_train_item} ({1 - num_train_item / num_items :.2f})',\n",
        "      f'\\n\\ntotal user: {num_users}',\n",
        "      f'\\nuser in train: {num_train_user}',\n",
        "      f'\\nuser not in train: {num_users - num_train_user} ({1 - num_train_user / num_users :.2f})'\n",
        "     )"
      ]
    },
    {
      "cell_type": "code",
      "execution_count": 45,
      "metadata": {
        "id": "vIkX7BzqzRGo"
      },
      "outputs": [],
      "source": [
        "def NCF_model(embed_size = 10, drop_out_prob = 0.2):\n",
        "    \"\"\"\n",
        "    Описываем архитектуру модели\n",
        "\n",
        "    Embedding слои\n",
        "    Drop Out слои\n",
        "\n",
        "\n",
        "    \"\"\"\n",
        "    # определить входные данные\n",
        "    item_input = Input(shape=[1],name='item-input')\n",
        "    user_input = Input(shape=[1], name='user-input')\n",
        "\n",
        "    # MLP embeddings для пользователей и элементов\n",
        "    item_embedding_mlp = Embedding(num_items, embed_size,\n",
        "                                    name='item-embedding-mlp')(item_input)\n",
        "    item_vec_mlp = Flatten(name='flatten-item-mlp')(item_embedding_mlp)\n",
        "    item_vec_mlp = Flatten(name='flatten-item-mlp')(item_embedding_mlp)\n",
        "\n",
        "    user_embedding_mlp = Embedding(num_users, embed_size,\n",
        "                                   name='user-embedding-mlp')(user_input)\n",
        "    user_vec_mlp = Flatten(name='flatten-user-mlp')(user_embedding_mlp)\n",
        "\n",
        "    # MF embeddings для пользователей и элементов\n",
        "    item_embedding_mf = Embedding(num_items, embed_size,\n",
        "                                   name='item-embedding-mf')(item_input)\n",
        "    item_vec_mf = Flatten(name='flatten-item-mf')(item_embedding_mf)\n",
        "\n",
        "    user_embedding_mf = Embedding(num_users, embed_size,\n",
        "                                  name='user-embedding-mf')(user_input)\n",
        "    user_vec_mf = Flatten(name='flatten-user-mf')(user_embedding_mf)\n",
        "\n",
        "    # MLP\n",
        "    concat = concatenate([item_vec_mlp, user_vec_mlp], axis=-1, name='concat')\n",
        "    concat_dropout = Dropout(drop_out_prob)(concat)\n",
        "\n",
        "    fc_1 = Dense(100, name='fc-1', activation='relu')(concat_dropout)\n",
        "    fc_1_bn = BatchNormalization(name='batch-norm-1')(fc_1)\n",
        "    fc_1_dropout = Dropout(drop_out_prob)(fc_1_bn)\n",
        "\n",
        "    fc_2 = Dense(50, name='fc-2', activation='relu')(fc_1_dropout)\n",
        "    fc_2_bn = BatchNormalization(name='batch-norm-2')(fc_2)\n",
        "    fc_2_dropout = Dropout(drop_out_prob)(fc_2_bn)\n",
        "\n",
        "    # Предикт\n",
        "    pred_mlp = Dense(10, name='pred-mlp', activation='relu')(fc_2_dropout)\n",
        "    pred_mf = dot([item_vec_mf, user_vec_mf], axes=1, normalize=False)\n",
        "\n",
        "    combine_mlp_mf = concatenate([pred_mf, pred_mlp], axis=-1, name='pred_mf')\n",
        "\n",
        "    # Финализация модели\n",
        "    result = Dense(1, name='result', activation='relu')(combine_mlp_mf)\n",
        "\n",
        "    model = Model([user_input,item_input], result)\n",
        "    model.compile(optimizer=Adam(learning_rate=0.01), loss='mean_squared_error')\n",
        "\n",
        "    return model"
      ]
    },
    {
      "cell_type": "code",
      "execution_count": 49,
      "metadata": {
        "id": "Gc6s7CaIzRI3"
      },
      "outputs": [],
      "source": [
        "model = NCF_model()\n",
        "# визуализируем модель\n",
        "#SVG(model_to_dot(model, dpi=50, show_shapes=True).create(prog='dot', format='svg'))"
      ]
    },
    {
      "cell_type": "code",
      "execution_count": 50,
      "metadata": {
        "colab": {
          "base_uri": "https://localhost:8080/"
        },
        "id": "EDPae93lzRLI",
        "outputId": "ab495042-ae38-4f3b-ee2d-60163e2eafda"
      },
      "outputs": [
        {
          "name": "stdout",
          "output_type": "stream",
          "text": [
            "Model: \"model_2\"\n",
            "__________________________________________________________________________________________________\n",
            " Layer (type)                Output Shape                 Param #   Connected to                  \n",
            "==================================================================================================\n",
            " item-input (InputLayer)     [(None, 1)]                  0         []                            \n",
            "                                                                                                  \n",
            " user-input (InputLayer)     [(None, 1)]                  0         []                            \n",
            "                                                                                                  \n",
            " item-embedding-mlp (Embedd  (None, 1, 10)                52750     ['item-input[0][0]']          \n",
            " ing)                                                                                             \n",
            "                                                                                                  \n",
            " user-embedding-mlp (Embedd  (None, 1, 10)                2281900   ['user-input[0][0]']          \n",
            " ing)                                                                                             \n",
            "                                                                                                  \n",
            " flatten-item-mlp (Flatten)  (None, 10)                   0         ['item-embedding-mlp[0][0]']  \n",
            "                                                                                                  \n",
            " flatten-user-mlp (Flatten)  (None, 10)                   0         ['user-embedding-mlp[0][0]']  \n",
            "                                                                                                  \n",
            " concat (Concatenate)        (None, 20)                   0         ['flatten-item-mlp[0][0]',    \n",
            "                                                                     'flatten-user-mlp[0][0]']    \n",
            "                                                                                                  \n",
            " dropout_6 (Dropout)         (None, 20)                   0         ['concat[0][0]']              \n",
            "                                                                                                  \n",
            " fc-1 (Dense)                (None, 100)                  2100      ['dropout_6[0][0]']           \n",
            "                                                                                                  \n",
            " batch-norm-1 (BatchNormali  (None, 100)                  400       ['fc-1[0][0]']                \n",
            " zation)                                                                                          \n",
            "                                                                                                  \n",
            " dropout_7 (Dropout)         (None, 100)                  0         ['batch-norm-1[0][0]']        \n",
            "                                                                                                  \n",
            " fc-2 (Dense)                (None, 50)                   5050      ['dropout_7[0][0]']           \n",
            "                                                                                                  \n",
            " item-embedding-mf (Embeddi  (None, 1, 10)                52750     ['item-input[0][0]']          \n",
            " ng)                                                                                              \n",
            "                                                                                                  \n",
            " user-embedding-mf (Embeddi  (None, 1, 10)                2281900   ['user-input[0][0]']          \n",
            " ng)                                                                                              \n",
            "                                                                                                  \n",
            " batch-norm-2 (BatchNormali  (None, 50)                   200       ['fc-2[0][0]']                \n",
            " zation)                                                                                          \n",
            "                                                                                                  \n",
            " flatten-item-mf (Flatten)   (None, 10)                   0         ['item-embedding-mf[0][0]']   \n",
            "                                                                                                  \n",
            " flatten-user-mf (Flatten)   (None, 10)                   0         ['user-embedding-mf[0][0]']   \n",
            "                                                                                                  \n",
            " dropout_8 (Dropout)         (None, 50)                   0         ['batch-norm-2[0][0]']        \n",
            "                                                                                                  \n",
            " dot_2 (Dot)                 (None, 1)                    0         ['flatten-item-mf[0][0]',     \n",
            "                                                                     'flatten-user-mf[0][0]']     \n",
            "                                                                                                  \n",
            " pred-mlp (Dense)            (None, 10)                   510       ['dropout_8[0][0]']           \n",
            "                                                                                                  \n",
            " pred_mf (Concatenate)       (None, 11)                   0         ['dot_2[0][0]',               \n",
            "                                                                     'pred-mlp[0][0]']            \n",
            "                                                                                                  \n",
            " result (Dense)              (None, 1)                    12        ['pred_mf[0][0]']             \n",
            "                                                                                                  \n",
            "==================================================================================================\n",
            "Total params: 4677572 (17.84 MB)\n",
            "Trainable params: 4677272 (17.84 MB)\n",
            "Non-trainable params: 300 (1.17 KB)\n",
            "__________________________________________________________________________________________________\n"
          ]
        }
      ],
      "source": [
        "model.summary()\n"
      ]
    },
    {
      "cell_type": "code",
      "execution_count": 93,
      "metadata": {
        "colab": {
          "base_uri": "https://localhost:8080/",
          "height": 630
        },
        "id": "zGlrO1IVzRNW",
        "outputId": "674f7136-c3e2-4c1c-8987-d91585f37907"
      },
      "outputs": [
        {
          "name": "stdout",
          "output_type": "stream",
          "text": [
            "Epoch 1/3\n",
            "26959/26959 [==============================] - 2903s 108ms/step - loss: 7.6857e-04\n",
            "Epoch 2/3\n",
            "26959/26959 [==============================] - 2899s 108ms/step - loss: 1.1147e-07\n",
            "Epoch 3/3\n",
            "26959/26959 [==============================] - 2886s 107ms/step - loss: 2.1627e-07\n"
          ]
        }
      ],
      "source": [
        "\n",
        "# обучение NCF\n",
        "model = NCF_model(embed_size=20)\n",
        "history = model.fit([train['user_encoded'], train['item_encoded']], train['target'], epochs=3, use_multiprocessing=True)\n",
        "\n"
      ]
    },
    {
      "cell_type": "code",
      "execution_count": 3,
      "metadata": {},
      "outputs": [],
      "source": [
        "pd.Series(history.history['loss']).plot(logy=True)\n",
        "plt.xlabel(\"Epoch\")\n",
        "plt.ylabel(\"Train Error\")\n",
        "plt.show()"
      ]
    },
    {
      "cell_type": "code",
      "execution_count": 97,
      "metadata": {
        "colab": {
          "base_uri": "https://localhost:8080/",
          "height": 158
        },
        "id": "jtqUOFq8zRPk",
        "outputId": "22d32c7a-fb2e-4173-ab5f-7f746722c3df"
      },
      "outputs": [
        {
          "name": "stdout",
          "output_type": "stream",
          "text": [
            "6740/6740 [==============================] - 12s 2ms/step\n"
          ]
        }
      ],
      "source": [
        "y_hat = np.round(model.predict([test['user_encoded'], test['item_encoded']]), decimals=2)\n",
        "y_true = test['target']"
      ]
    },
    {
      "cell_type": "code",
      "execution_count": 98,
      "metadata": {
        "colab": {
          "base_uri": "https://localhost:8080/",
          "height": 206
        },
        "id": "JN5EDt0UzRR1",
        "outputId": "9f766bce-ecb9-406d-c95c-1bd9ed826625"
      },
      "outputs": [
        {
          "data": {
            "text/html": [
              "<div>\n",
              "<style scoped>\n",
              "    .dataframe tbody tr th:only-of-type {\n",
              "        vertical-align: middle;\n",
              "    }\n",
              "\n",
              "    .dataframe tbody tr th {\n",
              "        vertical-align: top;\n",
              "    }\n",
              "\n",
              "    .dataframe thead th {\n",
              "        text-align: right;\n",
              "    }\n",
              "</style>\n",
              "<table border=\"1\" class=\"dataframe\">\n",
              "  <thead>\n",
              "    <tr style=\"text-align: right;\">\n",
              "      <th></th>\n",
              "      <th>prediction</th>\n",
              "      <th>true_value</th>\n",
              "    </tr>\n",
              "  </thead>\n",
              "  <tbody>\n",
              "    <tr>\n",
              "      <th>0</th>\n",
              "      <td>[1.0]</td>\n",
              "      <td>1</td>\n",
              "    </tr>\n",
              "    <tr>\n",
              "      <th>1</th>\n",
              "      <td>[1.0]</td>\n",
              "      <td>1</td>\n",
              "    </tr>\n",
              "    <tr>\n",
              "      <th>2</th>\n",
              "      <td>[1.0]</td>\n",
              "      <td>1</td>\n",
              "    </tr>\n",
              "    <tr>\n",
              "      <th>3</th>\n",
              "      <td>[1.0]</td>\n",
              "      <td>1</td>\n",
              "    </tr>\n",
              "    <tr>\n",
              "      <th>4</th>\n",
              "      <td>[1.0]</td>\n",
              "      <td>1</td>\n",
              "    </tr>\n",
              "  </tbody>\n",
              "</table>\n",
              "</div>"
            ],
            "text/plain": [
              "  prediction  true_value\n",
              "0      [1.0]           1\n",
              "1      [1.0]           1\n",
              "2      [1.0]           1\n",
              "3      [1.0]           1\n",
              "4      [1.0]           1"
            ]
          },
          "execution_count": 98,
          "metadata": {},
          "output_type": "execute_result"
        }
      ],
      "source": [
        "# предикт\n",
        "d = {'prediction': y_hat.tolist(), 'true_value': y_true.values.tolist()}\n",
        "test_pred = pd.DataFrame(d)\n",
        "test_pred.head(5)\n"
      ]
    },
    {
      "cell_type": "code",
      "execution_count": 85,
      "metadata": {},
      "outputs": [],
      "source": [
        "test_pred['prediction'][0][0]\n",
        "pred = []\n",
        "true_val = []\n",
        "for i in range(len(test_pred['prediction'])):\n",
        "    pred.append(int(test_pred['prediction'][i][0]))\n",
        "    true_val.append(test_pred['true_value'][i])      "
      ]
    },
    {
      "cell_type": "code",
      "execution_count": 86,
      "metadata": {},
      "outputs": [
        {
          "data": {
            "text/plain": [
              "1"
            ]
          },
          "execution_count": 86,
          "metadata": {},
          "output_type": "execute_result"
        }
      ],
      "source": [
        "min(pred)"
      ]
    },
    {
      "cell_type": "markdown",
      "metadata": {},
      "source": [
        "#### Вычисляем precision и recall"
      ]
    },
    {
      "cell_type": "code",
      "execution_count": 1,
      "metadata": {},
      "outputs": [],
      "source": [
        "\n",
        "precision_at_k = precision_score(true_val, pred, average='samples')\n",
        "recall_at_k = recall_score(true_val, pred, average='samples')"
      ]
    },
    {
      "cell_type": "code",
      "execution_count": 55,
      "metadata": {
        "id": "MGWhS5uwu1Aj"
      },
      "outputs": [],
      "source": [
        "# сделаем расчет Топ - N\n",
        "def NCF_recommendation(rec_model, client_id, top_k = 10):\n",
        "    client_encoded = user2user_encoded[client_id]\n",
        "    item_watched = sample_df[sample_df['user_id'] == client_id]['item_id'].values\n",
        "\n",
        "    item_poll_encoded = []\n",
        "    for item in item_ids:\n",
        "        if not np.isin(item, item_watched):\n",
        "            item_poll_encoded.append(item2item_encoded[item])\n",
        "\n",
        "    d = {'user_encoded': [client_encoded] * len(item_poll_encoded), 'item_encoded' : item_poll_encoded}\n",
        "    client_df = pd.DataFrame(d)\n",
        "\n",
        "    ratings = rec_model.predict([client_df['user_encoded'], client_df['item_encoded']])\n",
        "\n",
        "    top_ratings_idx = ratings.flatten().argsort()[-top_k:][::-1]\n",
        "    top_ratings = ratings[top_ratings_idx].flatten()\n",
        "    recommend_item_id = [item_encoded2item.get(item_poll_encoded[x]) for x in top_ratings_idx]\n",
        "\n",
        "    top_item_rec = pd.DataFrame({'item_id': recommend_item_id, 'prediction': top_ratings})\n",
        "\n",
        "    return top_item_rec"
      ]
    },
    {
      "cell_type": "code",
      "execution_count": 56,
      "metadata": {
        "colab": {
          "base_uri": "https://localhost:8080/",
          "height": 591
        },
        "id": "lYhMcitdu0-J",
        "outputId": "ad08359f-1005-428a-d385-dd212415d023"
      },
      "outputs": [
        {
          "name": "stdout",
          "output_type": "stream",
          "text": [
            " 33/165 [=====>........................] - ETA: 0s"
          ]
        },
        {
          "name": "stderr",
          "output_type": "stream",
          "text": [
            "C:\\Users\\Иван\\AppData\\Local\\Temp\\ipykernel_16996\\2474738021.py:1: DeprecationWarning: Conversion of an array with ndim > 0 to a scalar is deprecated, and will error in future. Ensure you extract a single element from your array before performing this operation. (Deprecated NumPy 1.25.)\n",
            "  client_id = int(np.random.choice(user_ids, 1))\n"
          ]
        },
        {
          "name": "stdout",
          "output_type": "stream",
          "text": [
            "165/165 [==============================] - 0s 2ms/step\n"
          ]
        },
        {
          "data": {
            "text/html": [
              "<div>\n",
              "<style scoped>\n",
              "    .dataframe tbody tr th:only-of-type {\n",
              "        vertical-align: middle;\n",
              "    }\n",
              "\n",
              "    .dataframe tbody tr th {\n",
              "        vertical-align: top;\n",
              "    }\n",
              "\n",
              "    .dataframe thead th {\n",
              "        text-align: right;\n",
              "    }\n",
              "</style>\n",
              "<table border=\"1\" class=\"dataframe\">\n",
              "  <thead>\n",
              "    <tr style=\"text-align: right;\">\n",
              "      <th></th>\n",
              "      <th>item_id</th>\n",
              "      <th>prediction</th>\n",
              "    </tr>\n",
              "  </thead>\n",
              "  <tbody>\n",
              "    <tr>\n",
              "      <th>0</th>\n",
              "      <td>1377</td>\n",
              "      <td>1.0</td>\n",
              "    </tr>\n",
              "    <tr>\n",
              "      <th>1</th>\n",
              "      <td>5485</td>\n",
              "      <td>1.0</td>\n",
              "    </tr>\n",
              "    <tr>\n",
              "      <th>2</th>\n",
              "      <td>2316</td>\n",
              "      <td>1.0</td>\n",
              "    </tr>\n",
              "    <tr>\n",
              "      <th>3</th>\n",
              "      <td>2030</td>\n",
              "      <td>1.0</td>\n",
              "    </tr>\n",
              "    <tr>\n",
              "      <th>4</th>\n",
              "      <td>6988</td>\n",
              "      <td>1.0</td>\n",
              "    </tr>\n",
              "    <tr>\n",
              "      <th>5</th>\n",
              "      <td>4175</td>\n",
              "      <td>1.0</td>\n",
              "    </tr>\n",
              "    <tr>\n",
              "      <th>6</th>\n",
              "      <td>2261</td>\n",
              "      <td>1.0</td>\n",
              "    </tr>\n",
              "    <tr>\n",
              "      <th>7</th>\n",
              "      <td>2892</td>\n",
              "      <td>1.0</td>\n",
              "    </tr>\n",
              "    <tr>\n",
              "      <th>8</th>\n",
              "      <td>600</td>\n",
              "      <td>1.0</td>\n",
              "    </tr>\n",
              "    <tr>\n",
              "      <th>9</th>\n",
              "      <td>897</td>\n",
              "      <td>1.0</td>\n",
              "    </tr>\n",
              "    <tr>\n",
              "      <th>10</th>\n",
              "      <td>4962</td>\n",
              "      <td>1.0</td>\n",
              "    </tr>\n",
              "    <tr>\n",
              "      <th>11</th>\n",
              "      <td>6492</td>\n",
              "      <td>1.0</td>\n",
              "    </tr>\n",
              "    <tr>\n",
              "      <th>12</th>\n",
              "      <td>4116</td>\n",
              "      <td>1.0</td>\n",
              "    </tr>\n",
              "    <tr>\n",
              "      <th>13</th>\n",
              "      <td>911</td>\n",
              "      <td>1.0</td>\n",
              "    </tr>\n",
              "    <tr>\n",
              "      <th>14</th>\n",
              "      <td>1675</td>\n",
              "      <td>1.0</td>\n",
              "    </tr>\n",
              "  </tbody>\n",
              "</table>\n",
              "</div>"
            ],
            "text/plain": [
              "    item_id  prediction\n",
              "0      1377         1.0\n",
              "1      5485         1.0\n",
              "2      2316         1.0\n",
              "3      2030         1.0\n",
              "4      6988         1.0\n",
              "5      4175         1.0\n",
              "6      2261         1.0\n",
              "7      2892         1.0\n",
              "8       600         1.0\n",
              "9       897         1.0\n",
              "10     4962         1.0\n",
              "11     6492         1.0\n",
              "12     4116         1.0\n",
              "13      911         1.0\n",
              "14     1675         1.0"
            ]
          },
          "execution_count": 56,
          "metadata": {},
          "output_type": "execute_result"
        }
      ],
      "source": [
        "client_id = int(np.random.choice(user_ids, 1))\n",
        "#print(f'recommendation for client:', client_id)\n",
        "NCF_recommendation(model, client_id, top_k=15)"
      ]
    },
    {
      "cell_type": "markdown",
      "metadata": {
        "id": "QRA8hh7d06BK"
      },
      "source": [
        "### Расчет метрик"
      ]
    },
    {
      "cell_type": "code",
      "execution_count": 57,
      "metadata": {
        "id": "B5MuoX9s06BK"
      },
      "outputs": [],
      "source": [
        "test_idx = list(sorted(set(test.user_id)))\n",
        "# Теперь создаем новый DataFrame, содержащий только покупки пользователей из теста\n",
        "test_buys = test[test['user_id'].isin(test_idx)]\n",
        "grouped_df = test_buys.groupby('user_id')\n",
        "\n",
        "# Добавляем новую колонку, которая содержит список купленных предметов для каждого пользователя\n",
        "#fact = grouped_df.apply(lambda x: x['item_id'].tolist()).reset_index(name='list_items')"
      ]
    },
    {
      "cell_type": "code",
      "execution_count": 61,
      "metadata": {
        "colab": {
          "base_uri": "https://localhost:8080/",
          "height": 423
        },
        "id": "b-GVNznG06BK",
        "outputId": "e0fcdbaa-900e-4d1a-ccf9-2d7445161df9"
      },
      "outputs": [
        {
          "data": {
            "text/html": [
              "<div>\n",
              "<style scoped>\n",
              "    .dataframe tbody tr th:only-of-type {\n",
              "        vertical-align: middle;\n",
              "    }\n",
              "\n",
              "    .dataframe tbody tr th {\n",
              "        vertical-align: top;\n",
              "    }\n",
              "\n",
              "    .dataframe thead th {\n",
              "        text-align: right;\n",
              "    }\n",
              "</style>\n",
              "<table border=\"1\" class=\"dataframe\">\n",
              "  <thead>\n",
              "    <tr style=\"text-align: right;\">\n",
              "      <th></th>\n",
              "      <th>user_id</th>\n",
              "      <th>list_items</th>\n",
              "      <th>target</th>\n",
              "    </tr>\n",
              "  </thead>\n",
              "  <tbody>\n",
              "    <tr>\n",
              "      <th>0</th>\n",
              "      <td>3</td>\n",
              "      <td>[363, 3835, 41, 11, 165, 149, 611, 11, 11, 477...</td>\n",
              "      <td>1</td>\n",
              "    </tr>\n",
              "    <tr>\n",
              "      <th>1</th>\n",
              "      <td>16</td>\n",
              "      <td>[3637, 104, 1834, 105, 104, 104, 133, 133, 133...</td>\n",
              "      <td>1</td>\n",
              "    </tr>\n",
              "    <tr>\n",
              "      <th>2</th>\n",
              "      <td>29</td>\n",
              "      <td>[1109, 2171, 157, 451, 1248, 1248, 451, 999, 3...</td>\n",
              "      <td>1</td>\n",
              "    </tr>\n",
              "    <tr>\n",
              "      <th>3</th>\n",
              "      <td>34</td>\n",
              "      <td>[1939, 1069, 1069, 667, 5346, 871, 838, 787, 3...</td>\n",
              "      <td>1</td>\n",
              "    </tr>\n",
              "    <tr>\n",
              "      <th>4</th>\n",
              "      <td>35</td>\n",
              "      <td>[812, 159, 203, 213, 5116, 1594, 184, 217, 99,...</td>\n",
              "      <td>1</td>\n",
              "    </tr>\n",
              "    <tr>\n",
              "      <th>...</th>\n",
              "      <td>...</td>\n",
              "      <td>...</td>\n",
              "      <td>...</td>\n",
              "    </tr>\n",
              "    <tr>\n",
              "      <th>228185</th>\n",
              "      <td>1057241</td>\n",
              "      <td>[5136, 191, 1076, 347, 357, 344, 150, 52, 41, ...</td>\n",
              "      <td>1</td>\n",
              "    </tr>\n",
              "    <tr>\n",
              "      <th>228186</th>\n",
              "      <td>1057242</td>\n",
              "      <td>[2567, 1571, 717, 2576, 363, 212, 594, 358, 36...</td>\n",
              "      <td>1</td>\n",
              "    </tr>\n",
              "    <tr>\n",
              "      <th>228187</th>\n",
              "      <td>1057245</td>\n",
              "      <td>[358, 1853, 4943, 447, 50, 1352, 593, 4943, 12...</td>\n",
              "      <td>1</td>\n",
              "    </tr>\n",
              "    <tr>\n",
              "      <th>228188</th>\n",
              "      <td>1057256</td>\n",
              "      <td>[342, 4753, 342, 541, 4378, 105, 336, 440, 317...</td>\n",
              "      <td>1</td>\n",
              "    </tr>\n",
              "    <tr>\n",
              "      <th>228189</th>\n",
              "      <td>1057263</td>\n",
              "      <td>[4556, 721, 69, 457, 215, 4088, 855, 4088, 115...</td>\n",
              "      <td>1</td>\n",
              "    </tr>\n",
              "  </tbody>\n",
              "</table>\n",
              "<p>228190 rows × 3 columns</p>\n",
              "</div>"
            ],
            "text/plain": [
              "        user_id                                         list_items  target\n",
              "0             3  [363, 3835, 41, 11, 165, 149, 611, 11, 11, 477...       1\n",
              "1            16  [3637, 104, 1834, 105, 104, 104, 133, 133, 133...       1\n",
              "2            29  [1109, 2171, 157, 451, 1248, 1248, 451, 999, 3...       1\n",
              "3            34  [1939, 1069, 1069, 667, 5346, 871, 838, 787, 3...       1\n",
              "4            35  [812, 159, 203, 213, 5116, 1594, 184, 217, 99,...       1\n",
              "...         ...                                                ...     ...\n",
              "228185  1057241  [5136, 191, 1076, 347, 357, 344, 150, 52, 41, ...       1\n",
              "228186  1057242  [2567, 1571, 717, 2576, 363, 212, 594, 358, 36...       1\n",
              "228187  1057245  [358, 1853, 4943, 447, 50, 1352, 593, 4943, 12...       1\n",
              "228188  1057256  [342, 4753, 342, 541, 4378, 105, 336, 440, 317...       1\n",
              "228189  1057263  [4556, 721, 69, 457, 215, 4088, 855, 4088, 115...       1\n",
              "\n",
              "[228190 rows x 3 columns]"
            ]
          },
          "execution_count": 61,
          "metadata": {},
          "output_type": "execute_result"
        }
      ],
      "source": [
        "#fact\n",
        "df"
      ]
    },
    {
      "cell_type": "code",
      "execution_count": 23,
      "metadata": {
        "id": "lFolYhKP06BL"
      },
      "outputs": [],
      "source": [
        "def hit_rate_at_k(test_idx, fact, k=10):\n",
        "    result = []\n",
        "    for i in range(len(fact['list_items'])):\n",
        "        test_preds = NCF_recommendation(model, test_idx[i], top_k=15)\n",
        "\n",
        "        final_bought_list = np.array(fact['list_items'][i])\n",
        "        recommended_list = np.array(list(test_preds['item_id']))\n",
        "        flags = np.isin(final_bought_list, recommended_list[:k] )\n",
        "        hit_rate = int(flags.sum() > 0)\n",
        "        result.append(hit_rate)\n",
        "    return statistics.mean(result)"
      ]
    },
    {
      "cell_type": "code",
      "execution_count": 24,
      "metadata": {
        "colab": {
          "base_uri": "https://localhost:8080/"
        },
        "id": "68IeFZEj06BL",
        "outputId": "2aab6716-538d-4220-b006-53519599f7b2"
      },
      "outputs": [
        {
          "name": "stdout",
          "output_type": "stream",
          "text": [
            "27/27 [==============================] - 0s 2ms/step\n",
            "27/27 [==============================] - 0s 2ms/step\n",
            "27/27 [==============================] - 0s 2ms/step\n",
            "27/27 [==============================] - 0s 2ms/step\n",
            "27/27 [==============================] - 0s 2ms/step\n",
            "27/27 [==============================] - 0s 2ms/step\n",
            "27/27 [==============================] - 0s 3ms/step\n",
            "27/27 [==============================] - 0s 3ms/step\n",
            "27/27 [==============================] - 0s 3ms/step\n",
            "27/27 [==============================] - 0s 3ms/step\n",
            "27/27 [==============================] - 0s 4ms/step\n",
            "27/27 [==============================] - 0s 3ms/step\n",
            "27/27 [==============================] - 0s 5ms/step\n",
            "27/27 [==============================] - 0s 4ms/step\n",
            "27/27 [==============================] - 0s 3ms/step\n",
            "27/27 [==============================] - 0s 3ms/step\n",
            "27/27 [==============================] - 0s 3ms/step\n",
            "27/27 [==============================] - 0s 2ms/step\n",
            "27/27 [==============================] - 0s 2ms/step\n",
            "27/27 [==============================] - 0s 2ms/step\n",
            "27/27 [==============================] - 0s 2ms/step\n",
            "27/27 [==============================] - 0s 2ms/step\n",
            "27/27 [==============================] - 0s 2ms/step\n",
            "27/27 [==============================] - 0s 2ms/step\n",
            "27/27 [==============================] - 0s 2ms/step\n",
            "27/27 [==============================] - 0s 3ms/step\n",
            "27/27 [==============================] - 0s 2ms/step\n",
            "27/27 [==============================] - 0s 2ms/step\n",
            "27/27 [==============================] - 0s 2ms/step\n",
            "27/27 [==============================] - 0s 2ms/step\n",
            "27/27 [==============================] - 0s 2ms/step\n",
            "27/27 [==============================] - 0s 2ms/step\n",
            "27/27 [==============================] - 0s 2ms/step\n",
            "27/27 [==============================] - 0s 2ms/step\n",
            "27/27 [==============================] - 0s 2ms/step\n",
            "27/27 [==============================] - 0s 2ms/step\n",
            "27/27 [==============================] - 0s 2ms/step\n",
            "27/27 [==============================] - 0s 2ms/step\n",
            "27/27 [==============================] - 0s 2ms/step\n",
            "27/27 [==============================] - 0s 2ms/step\n",
            "27/27 [==============================] - 0s 2ms/step\n",
            "27/27 [==============================] - 0s 2ms/step\n",
            "27/27 [==============================] - 0s 2ms/step\n",
            "27/27 [==============================] - 0s 2ms/step\n",
            "27/27 [==============================] - 0s 2ms/step\n",
            "27/27 [==============================] - 0s 2ms/step\n",
            "27/27 [==============================] - 0s 2ms/step\n",
            "27/27 [==============================] - 0s 2ms/step\n",
            "27/27 [==============================] - 0s 2ms/step\n",
            "27/27 [==============================] - 0s 2ms/step\n",
            "27/27 [==============================] - 0s 2ms/step\n",
            "27/27 [==============================] - 0s 2ms/step\n",
            "27/27 [==============================] - 0s 2ms/step\n",
            "27/27 [==============================] - 0s 2ms/step\n",
            "27/27 [==============================] - 0s 3ms/step\n",
            "27/27 [==============================] - 0s 2ms/step\n",
            "27/27 [==============================] - 0s 2ms/step\n",
            "27/27 [==============================] - 0s 2ms/step\n",
            "27/27 [==============================] - 0s 2ms/step\n",
            "27/27 [==============================] - 0s 3ms/step\n",
            "27/27 [==============================] - 0s 2ms/step\n",
            "27/27 [==============================] - 0s 3ms/step\n",
            "27/27 [==============================] - 0s 3ms/step\n",
            "27/27 [==============================] - 0s 3ms/step\n",
            "27/27 [==============================] - 0s 4ms/step\n",
            "27/27 [==============================] - 0s 4ms/step\n",
            "27/27 [==============================] - 0s 3ms/step\n",
            "27/27 [==============================] - 0s 3ms/step\n",
            "27/27 [==============================] - 0s 2ms/step\n",
            "27/27 [==============================] - 0s 2ms/step\n",
            "27/27 [==============================] - 0s 2ms/step\n",
            "27/27 [==============================] - 0s 2ms/step\n",
            "27/27 [==============================] - 0s 2ms/step\n",
            "27/27 [==============================] - 0s 2ms/step\n",
            "27/27 [==============================] - 0s 3ms/step\n",
            "27/27 [==============================] - 0s 2ms/step\n",
            "27/27 [==============================] - 0s 2ms/step\n",
            "27/27 [==============================] - 0s 2ms/step\n",
            "27/27 [==============================] - 0s 2ms/step\n",
            "27/27 [==============================] - 0s 2ms/step\n",
            "27/27 [==============================] - 0s 2ms/step\n",
            "27/27 [==============================] - 0s 2ms/step\n",
            "27/27 [==============================] - 0s 2ms/step\n",
            "27/27 [==============================] - 0s 2ms/step\n",
            "27/27 [==============================] - 0s 3ms/step\n",
            "27/27 [==============================] - 0s 2ms/step\n",
            "27/27 [==============================] - 0s 7ms/step\n",
            "27/27 [==============================] - 0s 2ms/step\n",
            "27/27 [==============================] - 0s 2ms/step\n",
            "27/27 [==============================] - 0s 4ms/step\n",
            "27/27 [==============================] - 0s 2ms/step\n",
            "27/27 [==============================] - 0s 4ms/step\n",
            "27/27 [==============================] - 0s 4ms/step\n",
            "27/27 [==============================] - 0s 2ms/step\n",
            "27/27 [==============================] - 0s 2ms/step\n",
            "27/27 [==============================] - 0s 3ms/step\n",
            "27/27 [==============================] - 0s 2ms/step\n",
            "27/27 [==============================] - 0s 2ms/step\n",
            "27/27 [==============================] - 0s 2ms/step\n",
            "27/27 [==============================] - 0s 2ms/step\n",
            "27/27 [==============================] - 0s 2ms/step\n",
            "27/27 [==============================] - 0s 2ms/step\n",
            "27/27 [==============================] - 0s 2ms/step\n",
            "27/27 [==============================] - 0s 2ms/step\n",
            "27/27 [==============================] - 0s 2ms/step\n",
            "27/27 [==============================] - 0s 2ms/step\n",
            "27/27 [==============================] - 0s 2ms/step\n",
            "27/27 [==============================] - 0s 3ms/step\n",
            "27/27 [==============================] - 0s 3ms/step\n",
            "27/27 [==============================] - 0s 3ms/step\n",
            "27/27 [==============================] - 0s 3ms/step\n",
            "27/27 [==============================] - 0s 3ms/step\n",
            "27/27 [==============================] - 0s 3ms/step\n",
            "27/27 [==============================] - 0s 4ms/step\n",
            "27/27 [==============================] - 0s 3ms/step\n",
            "27/27 [==============================] - 0s 4ms/step\n",
            "27/27 [==============================] - 0s 2ms/step\n",
            "27/27 [==============================] - 0s 2ms/step\n",
            "27/27 [==============================] - 0s 2ms/step\n",
            "27/27 [==============================] - 0s 2ms/step\n",
            "27/27 [==============================] - 0s 2ms/step\n",
            "27/27 [==============================] - 0s 2ms/step\n",
            "27/27 [==============================] - 0s 2ms/step\n",
            "27/27 [==============================] - 0s 2ms/step\n",
            "27/27 [==============================] - 0s 2ms/step\n",
            "27/27 [==============================] - 0s 2ms/step\n",
            "27/27 [==============================] - 0s 2ms/step\n",
            "27/27 [==============================] - 0s 2ms/step\n",
            "27/27 [==============================] - 0s 2ms/step\n",
            "27/27 [==============================] - 0s 2ms/step\n",
            "27/27 [==============================] - 0s 2ms/step\n",
            "27/27 [==============================] - 0s 2ms/step\n",
            "27/27 [==============================] - 0s 2ms/step\n",
            "27/27 [==============================] - 0s 2ms/step\n",
            "27/27 [==============================] - 0s 2ms/step\n",
            "27/27 [==============================] - 0s 2ms/step\n",
            "27/27 [==============================] - 0s 2ms/step\n",
            "27/27 [==============================] - 0s 2ms/step\n",
            "27/27 [==============================] - 0s 2ms/step\n",
            "27/27 [==============================] - 0s 3ms/step\n",
            "27/27 [==============================] - 0s 2ms/step\n",
            "27/27 [==============================] - 0s 2ms/step\n",
            "27/27 [==============================] - 0s 2ms/step\n",
            "27/27 [==============================] - 0s 2ms/step\n",
            "27/27 [==============================] - 0s 2ms/step\n",
            "27/27 [==============================] - 0s 2ms/step\n",
            "27/27 [==============================] - 0s 2ms/step\n",
            "27/27 [==============================] - 0s 2ms/step\n",
            "27/27 [==============================] - 0s 2ms/step\n",
            "27/27 [==============================] - 0s 2ms/step\n",
            "27/27 [==============================] - 0s 2ms/step\n",
            "27/27 [==============================] - 0s 2ms/step\n",
            "27/27 [==============================] - 0s 2ms/step\n",
            "27/27 [==============================] - 0s 2ms/step\n",
            "27/27 [==============================] - 0s 2ms/step\n",
            "27/27 [==============================] - 0s 2ms/step\n",
            "27/27 [==============================] - 0s 2ms/step\n",
            "27/27 [==============================] - 0s 2ms/step\n",
            "27/27 [==============================] - 0s 2ms/step\n",
            "27/27 [==============================] - 0s 2ms/step\n",
            "27/27 [==============================] - 0s 2ms/step\n",
            "27/27 [==============================] - 0s 2ms/step\n",
            "27/27 [==============================] - 0s 2ms/step\n",
            "27/27 [==============================] - 0s 4ms/step\n",
            "27/27 [==============================] - 0s 3ms/step\n",
            "27/27 [==============================] - 0s 3ms/step\n",
            "27/27 [==============================] - 0s 3ms/step\n",
            "27/27 [==============================] - 0s 3ms/step\n",
            "27/27 [==============================] - 0s 3ms/step\n",
            "27/27 [==============================] - 0s 3ms/step\n",
            "27/27 [==============================] - 0s 3ms/step\n",
            "27/27 [==============================] - 0s 3ms/step\n",
            "27/27 [==============================] - 0s 2ms/step\n",
            "27/27 [==============================] - 0s 2ms/step\n",
            "27/27 [==============================] - 0s 5ms/step\n",
            "27/27 [==============================] - 0s 2ms/step\n",
            "27/27 [==============================] - 0s 6ms/step\n",
            "27/27 [==============================] - 0s 3ms/step\n",
            "27/27 [==============================] - 0s 2ms/step\n",
            "27/27 [==============================] - 0s 2ms/step\n",
            "27/27 [==============================] - 0s 9ms/step\n",
            "27/27 [==============================] - 0s 2ms/step\n",
            "27/27 [==============================] - 0s 2ms/step\n",
            "27/27 [==============================] - 0s 2ms/step\n",
            "27/27 [==============================] - 0s 2ms/step\n",
            "27/27 [==============================] - 0s 2ms/step\n",
            "27/27 [==============================] - 0s 2ms/step\n",
            "27/27 [==============================] - 0s 2ms/step\n",
            "27/27 [==============================] - 0s 2ms/step\n",
            "27/27 [==============================] - 0s 2ms/step\n",
            "27/27 [==============================] - 0s 2ms/step\n",
            "27/27 [==============================] - 0s 2ms/step\n",
            "27/27 [==============================] - 0s 2ms/step\n",
            "27/27 [==============================] - 0s 2ms/step\n",
            "27/27 [==============================] - 0s 2ms/step\n",
            "27/27 [==============================] - 0s 2ms/step\n",
            "27/27 [==============================] - 0s 3ms/step\n",
            "27/27 [==============================] - 0s 2ms/step\n",
            "27/27 [==============================] - 0s 2ms/step\n",
            "27/27 [==============================] - 0s 2ms/step\n",
            "27/27 [==============================] - 0s 2ms/step\n",
            "27/27 [==============================] - 0s 2ms/step\n",
            "27/27 [==============================] - 0s 2ms/step\n",
            "27/27 [==============================] - 0s 2ms/step\n",
            "27/27 [==============================] - 0s 2ms/step\n",
            "27/27 [==============================] - 0s 2ms/step\n",
            "27/27 [==============================] - 0s 3ms/step\n",
            "27/27 [==============================] - 0s 2ms/step\n",
            "27/27 [==============================] - 0s 2ms/step\n",
            "27/27 [==============================] - 0s 2ms/step\n",
            "27/27 [==============================] - 0s 2ms/step\n",
            "27/27 [==============================] - 0s 2ms/step\n",
            "27/27 [==============================] - 0s 3ms/step\n",
            "27/27 [==============================] - 0s 3ms/step\n",
            "27/27 [==============================] - 0s 4ms/step\n",
            "27/27 [==============================] - 0s 3ms/step\n",
            "27/27 [==============================] - 0s 3ms/step\n",
            "27/27 [==============================] - 0s 3ms/step\n",
            "27/27 [==============================] - 0s 4ms/step\n",
            "27/27 [==============================] - 0s 4ms/step\n",
            "27/27 [==============================] - 0s 2ms/step\n",
            "27/27 [==============================] - 0s 2ms/step\n",
            "27/27 [==============================] - 0s 2ms/step\n",
            "27/27 [==============================] - 0s 2ms/step\n",
            "27/27 [==============================] - 0s 2ms/step\n",
            "27/27 [==============================] - 0s 2ms/step\n",
            "27/27 [==============================] - 0s 2ms/step\n",
            "27/27 [==============================] - 0s 2ms/step\n",
            "27/27 [==============================] - 0s 2ms/step\n",
            "27/27 [==============================] - 0s 2ms/step\n",
            "27/27 [==============================] - 0s 2ms/step\n",
            "27/27 [==============================] - 0s 2ms/step\n",
            "27/27 [==============================] - 0s 2ms/step\n",
            "27/27 [==============================] - 0s 2ms/step\n",
            "27/27 [==============================] - 0s 2ms/step\n",
            "27/27 [==============================] - 0s 2ms/step\n",
            "27/27 [==============================] - 0s 2ms/step\n",
            "27/27 [==============================] - 0s 2ms/step\n",
            "27/27 [==============================] - 0s 2ms/step\n",
            "27/27 [==============================] - 0s 2ms/step\n",
            "27/27 [==============================] - 0s 2ms/step\n",
            "27/27 [==============================] - 0s 2ms/step\n",
            "27/27 [==============================] - 0s 2ms/step\n",
            "27/27 [==============================] - 0s 2ms/step\n",
            "27/27 [==============================] - 0s 2ms/step\n",
            "27/27 [==============================] - 0s 2ms/step\n",
            "27/27 [==============================] - 0s 2ms/step\n",
            "27/27 [==============================] - 0s 3ms/step\n",
            "27/27 [==============================] - 0s 2ms/step\n",
            "27/27 [==============================] - 0s 2ms/step\n",
            "27/27 [==============================] - 0s 2ms/step\n"
          ]
        }
      ],
      "source": [
        "hit_rate = hit_rate_at_k(test_idx, fact, k=10)"
      ]
    },
    {
      "cell_type": "code",
      "execution_count": 27,
      "metadata": {
        "colab": {
          "base_uri": "https://localhost:8080/"
        },
        "id": "W5Aexz8i06BL",
        "outputId": "b9cbd6dc-e538-4986-c41f-6fb5b4151a86"
      },
      "outputs": [
        {
          "data": {
            "text/plain": [
              "0.3475691344720346"
            ]
          },
          "execution_count": 27,
          "metadata": {},
          "output_type": "execute_result"
        }
      ],
      "source": [
        "hit_rate"
      ]
    },
    {
      "cell_type": "code",
      "execution_count": 26,
      "metadata": {
        "id": "llksJW1506BL"
      },
      "outputs": [],
      "source": [
        "def precision_at_k(test_idx, fact, k=10):\n",
        "    result = []\n",
        "    for i in range(len(fact['list_items'])):\n",
        "        test_preds = NCF_recommendation(model, test_idx[i], top_k=15)\n",
        "        final_bought_list = np.array(fact['list_items'][i])\n",
        "        recommended_list = np.array(list(test_preds['item_id']))\n",
        "\n",
        "        final_bought_list = final_bought_list\n",
        "        recommended_list = recommended_list[:k]\n",
        "\n",
        "        flags = np.isin(recommended_list, final_bought_list)\n",
        "        precision = flags.sum() / len(recommended_list)\n",
        "        result.append(precision)\n",
        "    return statistics.mean(result)\n"
      ]
    },
    {
      "cell_type": "code",
      "execution_count": 27,
      "metadata": {
        "colab": {
          "base_uri": "https://localhost:8080/"
        },
        "id": "I7HfMdKn06BL",
        "outputId": "5e769f46-2ebc-45b8-8807-bf285d3e8752"
      },
      "outputs": [
        {
          "name": "stdout",
          "output_type": "stream",
          "text": [
            "27/27 [==============================] - 0s 2ms/step\n",
            "27/27 [==============================] - 0s 2ms/step\n",
            "27/27 [==============================] - 0s 2ms/step\n",
            "27/27 [==============================] - 0s 2ms/step\n",
            "27/27 [==============================] - 0s 2ms/step\n",
            "27/27 [==============================] - 0s 2ms/step\n",
            "27/27 [==============================] - 0s 2ms/step\n",
            "27/27 [==============================] - 0s 2ms/step\n",
            "27/27 [==============================] - 0s 2ms/step\n",
            "27/27 [==============================] - 0s 2ms/step\n",
            "27/27 [==============================] - 0s 2ms/step\n",
            "27/27 [==============================] - 0s 2ms/step\n",
            "27/27 [==============================] - 0s 2ms/step\n",
            "27/27 [==============================] - 0s 3ms/step\n",
            "27/27 [==============================] - 0s 3ms/step\n",
            "27/27 [==============================] - 0s 2ms/step\n",
            "27/27 [==============================] - 0s 2ms/step\n",
            "27/27 [==============================] - 0s 2ms/step\n",
            "27/27 [==============================] - 0s 2ms/step\n",
            "27/27 [==============================] - 0s 2ms/step\n",
            "27/27 [==============================] - 0s 2ms/step\n",
            "27/27 [==============================] - 0s 2ms/step\n",
            "27/27 [==============================] - 0s 2ms/step\n",
            "27/27 [==============================] - 0s 2ms/step\n",
            "27/27 [==============================] - 0s 2ms/step\n",
            "27/27 [==============================] - 0s 2ms/step\n",
            "27/27 [==============================] - 0s 2ms/step\n",
            "27/27 [==============================] - 0s 2ms/step\n",
            "27/27 [==============================] - 0s 2ms/step\n",
            "27/27 [==============================] - 0s 2ms/step\n",
            "27/27 [==============================] - 0s 2ms/step\n",
            "27/27 [==============================] - 0s 2ms/step\n",
            "27/27 [==============================] - 0s 2ms/step\n",
            "27/27 [==============================] - 0s 3ms/step\n",
            "27/27 [==============================] - 0s 2ms/step\n",
            "27/27 [==============================] - 0s 2ms/step\n",
            "27/27 [==============================] - 0s 2ms/step\n",
            "27/27 [==============================] - 0s 2ms/step\n",
            "27/27 [==============================] - 0s 2ms/step\n",
            "27/27 [==============================] - 0s 3ms/step\n",
            "27/27 [==============================] - 0s 3ms/step\n",
            "27/27 [==============================] - 0s 4ms/step\n",
            "27/27 [==============================] - 0s 3ms/step\n",
            "27/27 [==============================] - 0s 3ms/step\n",
            "27/27 [==============================] - 0s 3ms/step\n",
            "27/27 [==============================] - 0s 3ms/step\n",
            "27/27 [==============================] - 0s 4ms/step\n",
            "27/27 [==============================] - 0s 3ms/step\n",
            "27/27 [==============================] - 0s 2ms/step\n",
            "27/27 [==============================] - 0s 2ms/step\n",
            "27/27 [==============================] - 0s 2ms/step\n",
            "27/27 [==============================] - 0s 2ms/step\n",
            "27/27 [==============================] - 0s 2ms/step\n",
            "27/27 [==============================] - 0s 2ms/step\n",
            "27/27 [==============================] - 0s 2ms/step\n",
            "27/27 [==============================] - 0s 2ms/step\n",
            "27/27 [==============================] - 0s 2ms/step\n",
            "27/27 [==============================] - 0s 2ms/step\n",
            "27/27 [==============================] - 0s 2ms/step\n",
            "27/27 [==============================] - 0s 2ms/step\n",
            "27/27 [==============================] - 0s 2ms/step\n",
            "27/27 [==============================] - 0s 2ms/step\n",
            "27/27 [==============================] - 0s 2ms/step\n",
            "27/27 [==============================] - 0s 2ms/step\n",
            "27/27 [==============================] - 0s 3ms/step\n",
            "27/27 [==============================] - 0s 2ms/step\n",
            "27/27 [==============================] - 0s 2ms/step\n",
            "27/27 [==============================] - 0s 2ms/step\n",
            "27/27 [==============================] - 0s 2ms/step\n",
            "27/27 [==============================] - 0s 2ms/step\n",
            "27/27 [==============================] - 0s 3ms/step\n",
            "27/27 [==============================] - 0s 2ms/step\n",
            "27/27 [==============================] - 0s 2ms/step\n",
            "27/27 [==============================] - 0s 2ms/step\n",
            "27/27 [==============================] - 0s 2ms/step\n",
            "27/27 [==============================] - 0s 2ms/step\n",
            "27/27 [==============================] - 0s 2ms/step\n",
            "27/27 [==============================] - 0s 2ms/step\n",
            "27/27 [==============================] - 0s 3ms/step\n",
            "27/27 [==============================] - 0s 2ms/step\n",
            "27/27 [==============================] - 0s 2ms/step\n",
            "27/27 [==============================] - 0s 2ms/step\n",
            "27/27 [==============================] - 0s 2ms/step\n",
            "27/27 [==============================] - 0s 2ms/step\n",
            "27/27 [==============================] - 0s 2ms/step\n",
            "27/27 [==============================] - 0s 2ms/step\n",
            "27/27 [==============================] - 0s 2ms/step\n",
            "27/27 [==============================] - 0s 2ms/step\n",
            "27/27 [==============================] - 0s 2ms/step\n",
            "27/27 [==============================] - 0s 2ms/step\n",
            "27/27 [==============================] - 0s 2ms/step\n",
            "27/27 [==============================] - 0s 3ms/step\n",
            "27/27 [==============================] - 0s 2ms/step\n",
            "27/27 [==============================] - 0s 2ms/step\n",
            "27/27 [==============================] - 0s 2ms/step\n",
            "27/27 [==============================] - 0s 3ms/step\n",
            "27/27 [==============================] - 0s 3ms/step\n",
            "27/27 [==============================] - 0s 4ms/step\n",
            "27/27 [==============================] - 0s 3ms/step\n",
            "27/27 [==============================] - 0s 3ms/step\n",
            "27/27 [==============================] - 0s 3ms/step\n"
          ]
        }
      ],
      "source": [
        "precision = precision_at_k(test_idx, fact, k=10)"
      ]
    },
    {
      "cell_type": "code",
      "execution_count": 29,
      "metadata": {
        "colab": {
          "base_uri": "https://localhost:8080/"
        },
        "id": "rOEdCAT506BL",
        "outputId": "a9cec44f-d490-4869-e7ca-e98fb45fab8f"
      },
      "outputs": [
        {
          "data": {
            "text/plain": [
              "0.11260238844914451"
            ]
          },
          "execution_count": 29,
          "metadata": {},
          "output_type": "execute_result"
        }
      ],
      "source": [
        "precision"
      ]
    },
    {
      "cell_type": "code",
      "execution_count": null,
      "metadata": {
        "id": "zMa-ziCf06BM"
      },
      "outputs": [],
      "source": [
        "def recall_at_k(test_idx, fact, k=10):\n",
        "    result = []\n",
        "    for i in range(len(fact['list_items'])):\n",
        "        test_preds = NCF_recommendation(model, test_idx[i], top_k=15)\n",
        "        final_bought_list = np.array(fact['list_items'][i])\n",
        "        recommended_list = np.array(list(test_preds['item_id']))\n",
        "\n",
        "        final_bought_list = final_bought_list\n",
        "        recommended_list = recommended_list[:k]\n",
        "\n",
        "        flags = np.isin(final_bought_list, recommended_list)\n",
        "        recall = flags.sum() / len(final_bought_list)\n",
        "        result.append(recall)\n",
        "    return statistics.mean(result)"
      ]
    },
    {
      "cell_type": "code",
      "execution_count": null,
      "metadata": {
        "id": "hJZg8hnn06BM",
        "outputId": "0d70762f-91eb-44bb-b9e7-0760a497098b"
      },
      "outputs": [
        {
          "name": "stdout",
          "output_type": "stream",
          "text": [
            "180/180 [==============================] - 0s 2ms/step\n",
            "181/181 [==============================] - 0s 1ms/step\n",
            "179/179 [==============================] - 0s 2ms/step\n",
            "180/180 [==============================] - 0s 2ms/step\n",
            "180/180 [==============================] - 0s 1ms/step\n",
            "180/180 [==============================] - 0s 1ms/step\n",
            "180/180 [==============================] - 0s 1ms/step\n",
            "181/181 [==============================] - 0s 1ms/step\n",
            "180/180 [==============================] - 0s 1ms/step\n",
            "180/180 [==============================] - 0s 2ms/step\n",
            "180/180 [==============================] - 0s 1ms/step\n",
            "180/180 [==============================] - 0s 1ms/step\n",
            "179/179 [==============================] - 0s 1ms/step\n",
            "181/181 [==============================] - 0s 1ms/step\n",
            "180/180 [==============================] - 0s 2ms/step\n",
            "179/179 [==============================] - 0s 2ms/step\n",
            "181/181 [==============================] - 0s 1ms/step\n",
            "179/179 [==============================] - 0s 2ms/step\n",
            "180/180 [==============================] - 0s 2ms/step\n",
            "180/180 [==============================] - 0s 2ms/step\n",
            "180/180 [==============================] - 0s 1ms/step\n",
            "181/181 [==============================] - 0s 2ms/step\n",
            "180/180 [==============================] - 0s 2ms/step\n",
            "179/179 [==============================] - 0s 2ms/step\n",
            "180/180 [==============================] - 0s 2ms/step\n",
            "180/180 [==============================] - 0s 1ms/step\n",
            "180/180 [==============================] - 0s 1ms/step\n",
            "180/180 [==============================] - 0s 2ms/step\n",
            "180/180 [==============================] - 0s 2ms/step\n",
            "180/180 [==============================] - 0s 1ms/step\n",
            "179/179 [==============================] - 0s 2ms/step\n",
            "181/181 [==============================] - 0s 2ms/step\n",
            "180/180 [==============================] - 0s 2ms/step\n",
            "180/180 [==============================] - 0s 2ms/step\n",
            "180/180 [==============================] - 0s 2ms/step\n",
            "180/180 [==============================] - 0s 2ms/step\n",
            "180/180 [==============================] - 0s 1ms/step\n",
            "180/180 [==============================] - 0s 1ms/step\n",
            "180/180 [==============================] - 0s 2ms/step\n",
            "181/181 [==============================] - 0s 2ms/step\n",
            "180/180 [==============================] - 0s 2ms/step\n",
            "180/180 [==============================] - 0s 1ms/step\n",
            "180/180 [==============================] - 0s 1ms/step\n",
            "180/180 [==============================] - 0s 1ms/step\n",
            "180/180 [==============================] - 0s 2ms/step\n",
            "179/179 [==============================] - 0s 2ms/step\n",
            "180/180 [==============================] - 0s 2ms/step\n",
            "180/180 [==============================] - 0s 2ms/step\n",
            "179/179 [==============================] - 0s 1ms/step\n",
            "181/181 [==============================] - 0s 1ms/step\n",
            "180/180 [==============================] - 0s 2ms/step\n",
            "180/180 [==============================] - 0s 2ms/step\n",
            "180/180 [==============================] - 0s 1ms/step\n",
            "180/180 [==============================] - 0s 2ms/step\n",
            "179/179 [==============================] - 0s 1ms/step\n",
            "180/180 [==============================] - 0s 2ms/step\n",
            "180/180 [==============================] - 0s 1ms/step\n",
            "180/180 [==============================] - 0s 1ms/step\n",
            "180/180 [==============================] - 0s 1ms/step\n",
            "180/180 [==============================] - 0s 2ms/step\n",
            "180/180 [==============================] - 0s 1ms/step\n",
            "180/180 [==============================] - 0s 1ms/step\n",
            "180/180 [==============================] - 0s 1ms/step\n",
            "180/180 [==============================] - 0s 2ms/step\n",
            "180/180 [==============================] - 0s 1ms/step\n",
            "180/180 [==============================] - 0s 2ms/step\n",
            "181/181 [==============================] - 0s 2ms/step\n",
            "180/180 [==============================] - 0s 1ms/step\n",
            "179/179 [==============================] - 0s 1ms/step\n",
            "180/180 [==============================] - 0s 2ms/step\n",
            "179/179 [==============================] - 0s 2ms/step\n",
            "180/180 [==============================] - 0s 1ms/step\n",
            "178/178 [==============================] - 0s 1ms/step\n",
            "180/180 [==============================] - 0s 2ms/step\n",
            "180/180 [==============================] - 0s 2ms/step\n",
            "180/180 [==============================] - 0s 2ms/step\n",
            "181/181 [==============================] - 0s 1ms/step\n",
            "180/180 [==============================] - 0s 1ms/step\n",
            "180/180 [==============================] - 0s 1ms/step\n",
            "180/180 [==============================] - 0s 1ms/step\n",
            "179/179 [==============================] - 0s 2ms/step\n",
            "180/180 [==============================] - 0s 1ms/step\n",
            "180/180 [==============================] - 0s 1ms/step\n",
            "180/180 [==============================] - 0s 2ms/step\n",
            "180/180 [==============================] - 0s 1ms/step\n",
            "180/180 [==============================] - 0s 1ms/step\n",
            "180/180 [==============================] - 0s 1ms/step\n",
            "180/180 [==============================] - 0s 1ms/step\n",
            "180/180 [==============================] - 0s 1ms/step\n",
            "181/181 [==============================] - 0s 1ms/step\n",
            "179/179 [==============================] - 0s 1ms/step\n",
            "180/180 [==============================] - 0s 1ms/step\n",
            "179/179 [==============================] - 0s 1ms/step\n",
            "180/180 [==============================] - 0s 2ms/step\n",
            "180/180 [==============================] - 0s 2ms/step\n",
            "180/180 [==============================] - 0s 1ms/step\n",
            "180/180 [==============================] - 0s 1ms/step\n",
            "180/180 [==============================] - 0s 1ms/step\n",
            "180/180 [==============================] - 0s 1ms/step\n",
            "180/180 [==============================] - 0s 1ms/step\n",
            "180/180 [==============================] - 0s 1ms/step\n"
          ]
        }
      ],
      "source": [
        "recall = recall_at_k(test_idx, fact, k=10)"
      ]
    },
    {
      "cell_type": "code",
      "execution_count": 31,
      "metadata": {
        "id": "ZriddpHq06BM",
        "outputId": "13104dd2-2d23-409b-c31c-6a74b0ddf306"
      },
      "outputs": [
        {
          "data": {
            "text/plain": [
              "0.18151467477926245"
            ]
          },
          "execution_count": 31,
          "metadata": {},
          "output_type": "execute_result"
        }
      ],
      "source": [
        "recall"
      ]
    },
    {
      "cell_type": "code",
      "execution_count": 32,
      "metadata": {
        "id": "4f-BZjoa06BM"
      },
      "outputs": [],
      "source": [
        "def f_measure(precision,recall):\n",
        "    f = 2  *  (precision  *  recall) / (precision + recall)\n",
        "    return f"
      ]
    },
    {
      "cell_type": "code",
      "execution_count": 33,
      "metadata": {
        "id": "rcrPKr-r06BM",
        "outputId": "4dcd04f7-a4cd-4373-bb90-d50259604442"
      },
      "outputs": [],
      "source": [
        "f = f_measure(precision, recall)"
      ]
    },
    {
      "cell_type": "code",
      "execution_count": 34,
      "metadata": {
        "id": "BQ2HvOMc06BN",
        "outputId": "8a594f5a-f0c6-4cdb-ac98-1144df4b307f"
      },
      "outputs": [
        {
          "data": {
            "text/plain": [
              "0.1389853801364937"
            ]
          },
          "execution_count": 34,
          "metadata": {},
          "output_type": "execute_result"
        }
      ],
      "source": [
        "f"
      ]
    },
    {
      "cell_type": "code",
      "execution_count": 41,
      "metadata": {},
      "outputs": [],
      "source": [
        "# Precision, recall на встроенных методах в sklearn\n",
        "hit_rate = accuracy_score(fact, test_preds)\n",
        "\n",
        "precision_at_k = precision_score(fact, test_preds, average='samples')\n",
        "\n",
        "recall_at_k = recall_score(fact, test_preds, average='samples')"
      ]
    },
    {
      "cell_type": "code",
      "execution_count": 43,
      "metadata": {},
      "outputs": [
        {
          "data": {
            "text/plain": [
              "0.1875681344260871"
            ]
          },
          "execution_count": 43,
          "metadata": {},
          "output_type": "execute_result"
        }
      ],
      "source": [
        "hit_rate"
      ]
    },
    {
      "cell_type": "code",
      "execution_count": 47,
      "metadata": {},
      "outputs": [
        {
          "data": {
            "text/plain": [
              "0.09160231044874433"
            ]
          },
          "execution_count": 47,
          "metadata": {},
          "output_type": "execute_result"
        }
      ],
      "source": [
        "precision_at_k"
      ]
    },
    {
      "cell_type": "code",
      "execution_count": 45,
      "metadata": {},
      "outputs": [
        {
          "data": {
            "text/plain": [
              "0.07151366412726218"
            ]
          },
          "execution_count": 45,
          "metadata": {},
          "output_type": "execute_result"
        }
      ],
      "source": [
        "recall_at_k"
      ]
    },
    {
      "cell_type": "code",
      "execution_count": 48,
      "metadata": {},
      "outputs": [
        {
          "data": {
            "text/plain": [
              "0.08032097260541753"
            ]
          },
          "execution_count": 48,
          "metadata": {},
          "output_type": "execute_result"
        }
      ],
      "source": [
        "f_measure(precision_at_k,recall_at_k)"
      ]
    },
    {
      "cell_type": "markdown",
      "metadata": {
        "id": "afRha4xr780s"
      },
      "source": [
        "### Получившиеся метрики"
      ]
    },
    {
      "cell_type": "markdown",
      "metadata": {
        "id": "XUsqiFAO06BN"
      },
      "source": [
        "| Алгоритм | hit_rate | precision | recall | f_measure |\n",
        "| --- | --- | --- | --- | --- |\n",
        "| MostPopular | 0.1143 | 0.0125 | 0.0315 | 0.0255 |\n",
        "| NCF | 0.1876 | 0.0916 | 0.0715 | 0.0803 |"
      ]
    }
  ],
  "metadata": {
    "colab": {
      "provenance": []
    },
    "kernelspec": {
      "display_name": "Python 3",
      "language": "python",
      "name": "python3"
    },
    "language_info": {
      "codemirror_mode": {
        "name": "ipython",
        "version": 3
      },
      "file_extension": ".py",
      "mimetype": "text/x-python",
      "name": "python",
      "nbconvert_exporter": "python",
      "pygments_lexer": "ipython3",
      "version": "3.11.9"
    }
  },
  "nbformat": 4,
  "nbformat_minor": 0
}
